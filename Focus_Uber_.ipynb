{
  "metadata": {
    "kernelspec": {
      "language": "python",
      "display_name": "Python 3",
      "name": "python3"
    },
    "language_info": {
      "pygments_lexer": "ipython3",
      "nbconvert_exporter": "python",
      "version": "3.6.4",
      "file_extension": ".py",
      "codemirror_mode": {
        "name": "ipython",
        "version": 3
      },
      "name": "python",
      "mimetype": "text/x-python"
    },
    "colab": {
      "provenance": [],
      "collapsed_sections": [
        "9QqfRXmhj3VS",
        "c5kr9_4Qj3VS",
        "DP6tag1gj3VU",
        "qXG_BGZFj3VU",
        "Qy6_Yq5wj3VV",
        "FwM_VhwJj3VV",
        "2dI_a8rkj3VW",
        "X7AMebsnj3VW",
        "f_NYP1Grj3VX",
        "ob12kmnmj3VX"
      ]
    }
  },
  "nbformat_minor": 0,
  "nbformat": 4,
  "cells": [
    {
      "cell_type": "markdown",
      "source": [
        "# Import Libraries"
      ],
      "metadata": {
        "id": "CqkxMqNdj3VB"
      }
    },
    {
      "cell_type": "code",
      "source": [
        "import numpy as np\n",
        "import pandas as pd\n",
        "import seaborn as sns\n",
        "import matplotlib.pyplot as plt\n",
        "from sklearn import svm\n",
        "from sklearn.model_selection import train_test_split\n",
        "from sklearn.neighbors import DistanceMetric\n",
        "from math import radians"
      ],
      "metadata": {
        "execution": {
          "iopub.status.busy": "2023-01-16T01:30:27.888044Z",
          "iopub.execute_input": "2023-01-16T01:30:27.888465Z",
          "iopub.status.idle": "2023-01-16T01:30:27.894794Z",
          "shell.execute_reply.started": "2023-01-16T01:30:27.888431Z",
          "shell.execute_reply": "2023-01-16T01:30:27.893872Z"
        },
        "trusted": true,
        "id": "zBzk9zqXj3VH"
      },
      "execution_count": 2,
      "outputs": []
    },
    {
      "cell_type": "markdown",
      "source": [
        "# Load Data"
      ],
      "metadata": {
        "id": "FWwU-lYhj3VI"
      }
    },
    {
      "cell_type": "code",
      "source": [
        "fare_data = pd.read_csv('/content/drive/MyDrive/Data_sets/uber.csv')"
      ],
      "metadata": {
        "execution": {
          "iopub.status.busy": "2023-01-16T01:30:27.896779Z",
          "iopub.execute_input": "2023-01-16T01:30:27.897675Z",
          "iopub.status.idle": "2023-01-16T01:30:28.414787Z",
          "shell.execute_reply.started": "2023-01-16T01:30:27.897637Z",
          "shell.execute_reply": "2023-01-16T01:30:28.413737Z"
        },
        "trusted": true,
        "id": "u2exrPHlj3VJ"
      },
      "execution_count": 3,
      "outputs": []
    },
    {
      "cell_type": "markdown",
      "source": [
        "Problem Statement:\n",
        "\n",
        "The project is about on world's largest taxi company Uber inc. In this project, we're looking to predict the fare for their future transactional cases. Uber delivers service to lakhs of customers daily. Now it becomes really important to manage their data properly to come up with new business ideas to get best results. Eventually, it becomes really important to estimate the fare prices accurately."
      ],
      "metadata": {
        "id": "o12ZPPXwj3VJ"
      }
    },
    {
      "cell_type": "code",
      "source": [
        "fare_data.info()"
      ],
      "metadata": {
        "execution": {
          "iopub.status.busy": "2023-01-16T01:30:28.416212Z",
          "iopub.execute_input": "2023-01-16T01:30:28.416803Z",
          "iopub.status.idle": "2023-01-16T01:30:28.465645Z",
          "shell.execute_reply.started": "2023-01-16T01:30:28.416767Z",
          "shell.execute_reply": "2023-01-16T01:30:28.46438Z"
        },
        "trusted": true,
        "colab": {
          "base_uri": "https://localhost:8080/"
        },
        "id": "EvQFPPafj3VJ",
        "outputId": "b732a5d9-ce72-436f-c2a4-5dd7c210f7fb"
      },
      "execution_count": 4,
      "outputs": [
        {
          "output_type": "stream",
          "name": "stdout",
          "text": [
            "<class 'pandas.core.frame.DataFrame'>\n",
            "RangeIndex: 200000 entries, 0 to 199999\n",
            "Data columns (total 9 columns):\n",
            " #   Column             Non-Null Count   Dtype  \n",
            "---  ------             --------------   -----  \n",
            " 0   Unnamed: 0         200000 non-null  int64  \n",
            " 1   key                200000 non-null  object \n",
            " 2   fare_amount        200000 non-null  float64\n",
            " 3   pickup_datetime    200000 non-null  object \n",
            " 4   pickup_longitude   200000 non-null  float64\n",
            " 5   pickup_latitude    200000 non-null  float64\n",
            " 6   dropoff_longitude  199999 non-null  float64\n",
            " 7   dropoff_latitude   199999 non-null  float64\n",
            " 8   passenger_count    200000 non-null  int64  \n",
            "dtypes: float64(5), int64(2), object(2)\n",
            "memory usage: 13.7+ MB\n"
          ]
        }
      ]
    },
    {
      "cell_type": "code",
      "source": [
        "fare_data.head()"
      ],
      "metadata": {
        "execution": {
          "iopub.status.busy": "2023-01-16T01:30:28.46698Z",
          "iopub.execute_input": "2023-01-16T01:30:28.467351Z",
          "iopub.status.idle": "2023-01-16T01:30:28.490601Z",
          "shell.execute_reply.started": "2023-01-16T01:30:28.467316Z",
          "shell.execute_reply": "2023-01-16T01:30:28.489471Z"
        },
        "trusted": true,
        "colab": {
          "base_uri": "https://localhost:8080/",
          "height": 374
        },
        "id": "jbSAbfncj3VK",
        "outputId": "e5f4f221-eb0e-4e93-82ef-509a4eafec4e"
      },
      "execution_count": 5,
      "outputs": [
        {
          "output_type": "execute_result",
          "data": {
            "text/plain": [
              "   Unnamed: 0                            key  fare_amount  \\\n",
              "0    24238194    2015-05-07 19:52:06.0000003          7.5   \n",
              "1    27835199    2009-07-17 20:04:56.0000002          7.7   \n",
              "2    44984355   2009-08-24 21:45:00.00000061         12.9   \n",
              "3    25894730    2009-06-26 08:22:21.0000001          5.3   \n",
              "4    17610152  2014-08-28 17:47:00.000000188         16.0   \n",
              "\n",
              "           pickup_datetime  pickup_longitude  pickup_latitude  \\\n",
              "0  2015-05-07 19:52:06 UTC        -73.999817        40.738354   \n",
              "1  2009-07-17 20:04:56 UTC        -73.994355        40.728225   \n",
              "2  2009-08-24 21:45:00 UTC        -74.005043        40.740770   \n",
              "3  2009-06-26 08:22:21 UTC        -73.976124        40.790844   \n",
              "4  2014-08-28 17:47:00 UTC        -73.925023        40.744085   \n",
              "\n",
              "   dropoff_longitude  dropoff_latitude  passenger_count  \n",
              "0         -73.999512         40.723217                1  \n",
              "1         -73.994710         40.750325                1  \n",
              "2         -73.962565         40.772647                1  \n",
              "3         -73.965316         40.803349                3  \n",
              "4         -73.973082         40.761247                5  "
            ],
            "text/html": [
              "\n",
              "  <div id=\"df-7e168902-fc07-4753-80a7-a0aa26b1cbda\">\n",
              "    <div class=\"colab-df-container\">\n",
              "      <div>\n",
              "<style scoped>\n",
              "    .dataframe tbody tr th:only-of-type {\n",
              "        vertical-align: middle;\n",
              "    }\n",
              "\n",
              "    .dataframe tbody tr th {\n",
              "        vertical-align: top;\n",
              "    }\n",
              "\n",
              "    .dataframe thead th {\n",
              "        text-align: right;\n",
              "    }\n",
              "</style>\n",
              "<table border=\"1\" class=\"dataframe\">\n",
              "  <thead>\n",
              "    <tr style=\"text-align: right;\">\n",
              "      <th></th>\n",
              "      <th>Unnamed: 0</th>\n",
              "      <th>key</th>\n",
              "      <th>fare_amount</th>\n",
              "      <th>pickup_datetime</th>\n",
              "      <th>pickup_longitude</th>\n",
              "      <th>pickup_latitude</th>\n",
              "      <th>dropoff_longitude</th>\n",
              "      <th>dropoff_latitude</th>\n",
              "      <th>passenger_count</th>\n",
              "    </tr>\n",
              "  </thead>\n",
              "  <tbody>\n",
              "    <tr>\n",
              "      <th>0</th>\n",
              "      <td>24238194</td>\n",
              "      <td>2015-05-07 19:52:06.0000003</td>\n",
              "      <td>7.5</td>\n",
              "      <td>2015-05-07 19:52:06 UTC</td>\n",
              "      <td>-73.999817</td>\n",
              "      <td>40.738354</td>\n",
              "      <td>-73.999512</td>\n",
              "      <td>40.723217</td>\n",
              "      <td>1</td>\n",
              "    </tr>\n",
              "    <tr>\n",
              "      <th>1</th>\n",
              "      <td>27835199</td>\n",
              "      <td>2009-07-17 20:04:56.0000002</td>\n",
              "      <td>7.7</td>\n",
              "      <td>2009-07-17 20:04:56 UTC</td>\n",
              "      <td>-73.994355</td>\n",
              "      <td>40.728225</td>\n",
              "      <td>-73.994710</td>\n",
              "      <td>40.750325</td>\n",
              "      <td>1</td>\n",
              "    </tr>\n",
              "    <tr>\n",
              "      <th>2</th>\n",
              "      <td>44984355</td>\n",
              "      <td>2009-08-24 21:45:00.00000061</td>\n",
              "      <td>12.9</td>\n",
              "      <td>2009-08-24 21:45:00 UTC</td>\n",
              "      <td>-74.005043</td>\n",
              "      <td>40.740770</td>\n",
              "      <td>-73.962565</td>\n",
              "      <td>40.772647</td>\n",
              "      <td>1</td>\n",
              "    </tr>\n",
              "    <tr>\n",
              "      <th>3</th>\n",
              "      <td>25894730</td>\n",
              "      <td>2009-06-26 08:22:21.0000001</td>\n",
              "      <td>5.3</td>\n",
              "      <td>2009-06-26 08:22:21 UTC</td>\n",
              "      <td>-73.976124</td>\n",
              "      <td>40.790844</td>\n",
              "      <td>-73.965316</td>\n",
              "      <td>40.803349</td>\n",
              "      <td>3</td>\n",
              "    </tr>\n",
              "    <tr>\n",
              "      <th>4</th>\n",
              "      <td>17610152</td>\n",
              "      <td>2014-08-28 17:47:00.000000188</td>\n",
              "      <td>16.0</td>\n",
              "      <td>2014-08-28 17:47:00 UTC</td>\n",
              "      <td>-73.925023</td>\n",
              "      <td>40.744085</td>\n",
              "      <td>-73.973082</td>\n",
              "      <td>40.761247</td>\n",
              "      <td>5</td>\n",
              "    </tr>\n",
              "  </tbody>\n",
              "</table>\n",
              "</div>\n",
              "      <button class=\"colab-df-convert\" onclick=\"convertToInteractive('df-7e168902-fc07-4753-80a7-a0aa26b1cbda')\"\n",
              "              title=\"Convert this dataframe to an interactive table.\"\n",
              "              style=\"display:none;\">\n",
              "        \n",
              "  <svg xmlns=\"http://www.w3.org/2000/svg\" height=\"24px\"viewBox=\"0 0 24 24\"\n",
              "       width=\"24px\">\n",
              "    <path d=\"M0 0h24v24H0V0z\" fill=\"none\"/>\n",
              "    <path d=\"M18.56 5.44l.94 2.06.94-2.06 2.06-.94-2.06-.94-.94-2.06-.94 2.06-2.06.94zm-11 1L8.5 8.5l.94-2.06 2.06-.94-2.06-.94L8.5 2.5l-.94 2.06-2.06.94zm10 10l.94 2.06.94-2.06 2.06-.94-2.06-.94-.94-2.06-.94 2.06-2.06.94z\"/><path d=\"M17.41 7.96l-1.37-1.37c-.4-.4-.92-.59-1.43-.59-.52 0-1.04.2-1.43.59L10.3 9.45l-7.72 7.72c-.78.78-.78 2.05 0 2.83L4 21.41c.39.39.9.59 1.41.59.51 0 1.02-.2 1.41-.59l7.78-7.78 2.81-2.81c.8-.78.8-2.07 0-2.86zM5.41 20L4 18.59l7.72-7.72 1.47 1.35L5.41 20z\"/>\n",
              "  </svg>\n",
              "      </button>\n",
              "      \n",
              "  <style>\n",
              "    .colab-df-container {\n",
              "      display:flex;\n",
              "      flex-wrap:wrap;\n",
              "      gap: 12px;\n",
              "    }\n",
              "\n",
              "    .colab-df-convert {\n",
              "      background-color: #E8F0FE;\n",
              "      border: none;\n",
              "      border-radius: 50%;\n",
              "      cursor: pointer;\n",
              "      display: none;\n",
              "      fill: #1967D2;\n",
              "      height: 32px;\n",
              "      padding: 0 0 0 0;\n",
              "      width: 32px;\n",
              "    }\n",
              "\n",
              "    .colab-df-convert:hover {\n",
              "      background-color: #E2EBFA;\n",
              "      box-shadow: 0px 1px 2px rgba(60, 64, 67, 0.3), 0px 1px 3px 1px rgba(60, 64, 67, 0.15);\n",
              "      fill: #174EA6;\n",
              "    }\n",
              "\n",
              "    [theme=dark] .colab-df-convert {\n",
              "      background-color: #3B4455;\n",
              "      fill: #D2E3FC;\n",
              "    }\n",
              "\n",
              "    [theme=dark] .colab-df-convert:hover {\n",
              "      background-color: #434B5C;\n",
              "      box-shadow: 0px 1px 3px 1px rgba(0, 0, 0, 0.15);\n",
              "      filter: drop-shadow(0px 1px 2px rgba(0, 0, 0, 0.3));\n",
              "      fill: #FFFFFF;\n",
              "    }\n",
              "  </style>\n",
              "\n",
              "      <script>\n",
              "        const buttonEl =\n",
              "          document.querySelector('#df-7e168902-fc07-4753-80a7-a0aa26b1cbda button.colab-df-convert');\n",
              "        buttonEl.style.display =\n",
              "          google.colab.kernel.accessAllowed ? 'block' : 'none';\n",
              "\n",
              "        async function convertToInteractive(key) {\n",
              "          const element = document.querySelector('#df-7e168902-fc07-4753-80a7-a0aa26b1cbda');\n",
              "          const dataTable =\n",
              "            await google.colab.kernel.invokeFunction('convertToInteractive',\n",
              "                                                     [key], {});\n",
              "          if (!dataTable) return;\n",
              "\n",
              "          const docLinkHtml = 'Like what you see? Visit the ' +\n",
              "            '<a target=\"_blank\" href=https://colab.research.google.com/notebooks/data_table.ipynb>data table notebook</a>'\n",
              "            + ' to learn more about interactive tables.';\n",
              "          element.innerHTML = '';\n",
              "          dataTable['output_type'] = 'display_data';\n",
              "          await google.colab.output.renderOutput(dataTable, element);\n",
              "          const docLink = document.createElement('div');\n",
              "          docLink.innerHTML = docLinkHtml;\n",
              "          element.appendChild(docLink);\n",
              "        }\n",
              "      </script>\n",
              "    </div>\n",
              "  </div>\n",
              "  "
            ]
          },
          "metadata": {},
          "execution_count": 5
        }
      ]
    },
    {
      "cell_type": "markdown",
      "source": [
        "Only two column with missing data, i.e, dropoff_longitude and dropoff_latitude"
      ],
      "metadata": {
        "id": "DE2lrhMXj3VK"
      }
    },
    {
      "cell_type": "code",
      "source": [
        "data = fare_data"
      ],
      "metadata": {
        "execution": {
          "iopub.status.busy": "2023-01-16T01:30:28.49351Z",
          "iopub.execute_input": "2023-01-16T01:30:28.493855Z",
          "iopub.status.idle": "2023-01-16T01:30:28.498064Z",
          "shell.execute_reply.started": "2023-01-16T01:30:28.493824Z",
          "shell.execute_reply": "2023-01-16T01:30:28.49716Z"
        },
        "trusted": true,
        "id": "8dcXPW4-j3VL"
      },
      "execution_count": 6,
      "outputs": []
    },
    {
      "cell_type": "code",
      "source": [
        "data.info()"
      ],
      "metadata": {
        "execution": {
          "iopub.status.busy": "2023-01-16T01:30:28.694577Z",
          "iopub.execute_input": "2023-01-16T01:30:28.694948Z",
          "iopub.status.idle": "2023-01-16T01:30:28.729746Z",
          "shell.execute_reply.started": "2023-01-16T01:30:28.694915Z",
          "shell.execute_reply": "2023-01-16T01:30:28.728555Z"
        },
        "trusted": true,
        "colab": {
          "base_uri": "https://localhost:8080/"
        },
        "id": "cCqPnjMzj3VL",
        "outputId": "46bd7aeb-8cd1-430b-e388-6e68074444cd"
      },
      "execution_count": 8,
      "outputs": [
        {
          "output_type": "stream",
          "name": "stdout",
          "text": [
            "<class 'pandas.core.frame.DataFrame'>\n",
            "RangeIndex: 200000 entries, 0 to 199999\n",
            "Data columns (total 9 columns):\n",
            " #   Column             Non-Null Count   Dtype  \n",
            "---  ------             --------------   -----  \n",
            " 0   Unnamed: 0         200000 non-null  int64  \n",
            " 1   key                200000 non-null  object \n",
            " 2   fare_amount        200000 non-null  float64\n",
            " 3   pickup_datetime    200000 non-null  object \n",
            " 4   pickup_longitude   200000 non-null  float64\n",
            " 5   pickup_latitude    200000 non-null  float64\n",
            " 6   dropoff_longitude  199999 non-null  float64\n",
            " 7   dropoff_latitude   199999 non-null  float64\n",
            " 8   passenger_count    200000 non-null  int64  \n",
            "dtypes: float64(5), int64(2), object(2)\n",
            "memory usage: 13.7+ MB\n"
          ]
        }
      ]
    },
    {
      "cell_type": "markdown",
      "source": [
        "dropoff_longitude and dropoff_latitude have one missing row. We need to exclude this"
      ],
      "metadata": {
        "id": "nJjkTI9Lj3VL"
      }
    },
    {
      "cell_type": "code",
      "source": [
        "data.nunique()"
      ],
      "metadata": {
        "execution": {
          "iopub.status.busy": "2023-01-16T01:30:28.731177Z",
          "iopub.execute_input": "2023-01-16T01:30:28.731549Z",
          "iopub.status.idle": "2023-01-16T01:30:28.914852Z",
          "shell.execute_reply.started": "2023-01-16T01:30:28.731518Z",
          "shell.execute_reply": "2023-01-16T01:30:28.913704Z"
        },
        "trusted": true,
        "colab": {
          "base_uri": "https://localhost:8080/"
        },
        "id": "0shEjf5Hj3VM",
        "outputId": "8dd76b34-2ff4-4dbc-dd1f-07b6eac4d758"
      },
      "execution_count": 9,
      "outputs": [
        {
          "output_type": "execute_result",
          "data": {
            "text/plain": [
              "Unnamed: 0           200000\n",
              "key                  200000\n",
              "fare_amount            1244\n",
              "pickup_datetime      196629\n",
              "pickup_longitude      71066\n",
              "pickup_latitude       83835\n",
              "dropoff_longitude     76894\n",
              "dropoff_latitude      90585\n",
              "passenger_count           8\n",
              "dtype: int64"
            ]
          },
          "metadata": {},
          "execution_count": 9
        }
      ]
    },
    {
      "cell_type": "code",
      "source": [
        "data.describe()"
      ],
      "metadata": {
        "colab": {
          "base_uri": "https://localhost:8080/",
          "height": 364
        },
        "id": "Kf1BATf-3w1k",
        "outputId": "b7b71203-1ee4-454b-b435-7108859b1969"
      },
      "execution_count": 61,
      "outputs": [
        {
          "output_type": "execute_result",
          "data": {
            "text/plain": [
              "         fare_amount  passenger_count  distance_travelled          month  \\\n",
              "count  189061.000000    189061.000000       189061.000000  189061.000000   \n",
              "mean       11.336739         1.595115            3.377859       6.282337   \n",
              "std         9.730745         1.150926            3.984585       3.439349   \n",
              "min         2.500000         1.000000            0.000084       1.000000   \n",
              "25%         6.000000         1.000000            1.279954       3.000000   \n",
              "50%         8.500000         1.000000            2.181325       6.000000   \n",
              "75%        12.500000         2.000000            3.938054       9.000000   \n",
              "max       499.000000         5.000000          129.610094      12.000000   \n",
              "\n",
              "                year  day_of_the_week    pickup_hour  \n",
              "count  189061.000000    189061.000000  189061.000000  \n",
              "mean     2011.719302         3.049095      13.489234  \n",
              "std         1.862527         1.946679       6.518660  \n",
              "min      2009.000000         0.000000       0.000000  \n",
              "25%      2010.000000         1.000000       9.000000  \n",
              "50%      2012.000000         3.000000      14.000000  \n",
              "75%      2013.000000         5.000000      19.000000  \n",
              "max      2015.000000         6.000000      23.000000  "
            ],
            "text/html": [
              "\n",
              "  <div id=\"df-afb424ab-49d4-4233-91b0-27bea0b9b0ff\">\n",
              "    <div class=\"colab-df-container\">\n",
              "      <div>\n",
              "<style scoped>\n",
              "    .dataframe tbody tr th:only-of-type {\n",
              "        vertical-align: middle;\n",
              "    }\n",
              "\n",
              "    .dataframe tbody tr th {\n",
              "        vertical-align: top;\n",
              "    }\n",
              "\n",
              "    .dataframe thead th {\n",
              "        text-align: right;\n",
              "    }\n",
              "</style>\n",
              "<table border=\"1\" class=\"dataframe\">\n",
              "  <thead>\n",
              "    <tr style=\"text-align: right;\">\n",
              "      <th></th>\n",
              "      <th>fare_amount</th>\n",
              "      <th>passenger_count</th>\n",
              "      <th>distance_travelled</th>\n",
              "      <th>month</th>\n",
              "      <th>year</th>\n",
              "      <th>day_of_the_week</th>\n",
              "      <th>pickup_hour</th>\n",
              "    </tr>\n",
              "  </thead>\n",
              "  <tbody>\n",
              "    <tr>\n",
              "      <th>count</th>\n",
              "      <td>189061.000000</td>\n",
              "      <td>189061.000000</td>\n",
              "      <td>189061.000000</td>\n",
              "      <td>189061.000000</td>\n",
              "      <td>189061.000000</td>\n",
              "      <td>189061.000000</td>\n",
              "      <td>189061.000000</td>\n",
              "    </tr>\n",
              "    <tr>\n",
              "      <th>mean</th>\n",
              "      <td>11.336739</td>\n",
              "      <td>1.595115</td>\n",
              "      <td>3.377859</td>\n",
              "      <td>6.282337</td>\n",
              "      <td>2011.719302</td>\n",
              "      <td>3.049095</td>\n",
              "      <td>13.489234</td>\n",
              "    </tr>\n",
              "    <tr>\n",
              "      <th>std</th>\n",
              "      <td>9.730745</td>\n",
              "      <td>1.150926</td>\n",
              "      <td>3.984585</td>\n",
              "      <td>3.439349</td>\n",
              "      <td>1.862527</td>\n",
              "      <td>1.946679</td>\n",
              "      <td>6.518660</td>\n",
              "    </tr>\n",
              "    <tr>\n",
              "      <th>min</th>\n",
              "      <td>2.500000</td>\n",
              "      <td>1.000000</td>\n",
              "      <td>0.000084</td>\n",
              "      <td>1.000000</td>\n",
              "      <td>2009.000000</td>\n",
              "      <td>0.000000</td>\n",
              "      <td>0.000000</td>\n",
              "    </tr>\n",
              "    <tr>\n",
              "      <th>25%</th>\n",
              "      <td>6.000000</td>\n",
              "      <td>1.000000</td>\n",
              "      <td>1.279954</td>\n",
              "      <td>3.000000</td>\n",
              "      <td>2010.000000</td>\n",
              "      <td>1.000000</td>\n",
              "      <td>9.000000</td>\n",
              "    </tr>\n",
              "    <tr>\n",
              "      <th>50%</th>\n",
              "      <td>8.500000</td>\n",
              "      <td>1.000000</td>\n",
              "      <td>2.181325</td>\n",
              "      <td>6.000000</td>\n",
              "      <td>2012.000000</td>\n",
              "      <td>3.000000</td>\n",
              "      <td>14.000000</td>\n",
              "    </tr>\n",
              "    <tr>\n",
              "      <th>75%</th>\n",
              "      <td>12.500000</td>\n",
              "      <td>2.000000</td>\n",
              "      <td>3.938054</td>\n",
              "      <td>9.000000</td>\n",
              "      <td>2013.000000</td>\n",
              "      <td>5.000000</td>\n",
              "      <td>19.000000</td>\n",
              "    </tr>\n",
              "    <tr>\n",
              "      <th>max</th>\n",
              "      <td>499.000000</td>\n",
              "      <td>5.000000</td>\n",
              "      <td>129.610094</td>\n",
              "      <td>12.000000</td>\n",
              "      <td>2015.000000</td>\n",
              "      <td>6.000000</td>\n",
              "      <td>23.000000</td>\n",
              "    </tr>\n",
              "  </tbody>\n",
              "</table>\n",
              "</div>\n",
              "      <button class=\"colab-df-convert\" onclick=\"convertToInteractive('df-afb424ab-49d4-4233-91b0-27bea0b9b0ff')\"\n",
              "              title=\"Convert this dataframe to an interactive table.\"\n",
              "              style=\"display:none;\">\n",
              "        \n",
              "  <svg xmlns=\"http://www.w3.org/2000/svg\" height=\"24px\"viewBox=\"0 0 24 24\"\n",
              "       width=\"24px\">\n",
              "    <path d=\"M0 0h24v24H0V0z\" fill=\"none\"/>\n",
              "    <path d=\"M18.56 5.44l.94 2.06.94-2.06 2.06-.94-2.06-.94-.94-2.06-.94 2.06-2.06.94zm-11 1L8.5 8.5l.94-2.06 2.06-.94-2.06-.94L8.5 2.5l-.94 2.06-2.06.94zm10 10l.94 2.06.94-2.06 2.06-.94-2.06-.94-.94-2.06-.94 2.06-2.06.94z\"/><path d=\"M17.41 7.96l-1.37-1.37c-.4-.4-.92-.59-1.43-.59-.52 0-1.04.2-1.43.59L10.3 9.45l-7.72 7.72c-.78.78-.78 2.05 0 2.83L4 21.41c.39.39.9.59 1.41.59.51 0 1.02-.2 1.41-.59l7.78-7.78 2.81-2.81c.8-.78.8-2.07 0-2.86zM5.41 20L4 18.59l7.72-7.72 1.47 1.35L5.41 20z\"/>\n",
              "  </svg>\n",
              "      </button>\n",
              "      \n",
              "  <style>\n",
              "    .colab-df-container {\n",
              "      display:flex;\n",
              "      flex-wrap:wrap;\n",
              "      gap: 12px;\n",
              "    }\n",
              "\n",
              "    .colab-df-convert {\n",
              "      background-color: #E8F0FE;\n",
              "      border: none;\n",
              "      border-radius: 50%;\n",
              "      cursor: pointer;\n",
              "      display: none;\n",
              "      fill: #1967D2;\n",
              "      height: 32px;\n",
              "      padding: 0 0 0 0;\n",
              "      width: 32px;\n",
              "    }\n",
              "\n",
              "    .colab-df-convert:hover {\n",
              "      background-color: #E2EBFA;\n",
              "      box-shadow: 0px 1px 2px rgba(60, 64, 67, 0.3), 0px 1px 3px 1px rgba(60, 64, 67, 0.15);\n",
              "      fill: #174EA6;\n",
              "    }\n",
              "\n",
              "    [theme=dark] .colab-df-convert {\n",
              "      background-color: #3B4455;\n",
              "      fill: #D2E3FC;\n",
              "    }\n",
              "\n",
              "    [theme=dark] .colab-df-convert:hover {\n",
              "      background-color: #434B5C;\n",
              "      box-shadow: 0px 1px 3px 1px rgba(0, 0, 0, 0.15);\n",
              "      filter: drop-shadow(0px 1px 2px rgba(0, 0, 0, 0.3));\n",
              "      fill: #FFFFFF;\n",
              "    }\n",
              "  </style>\n",
              "\n",
              "      <script>\n",
              "        const buttonEl =\n",
              "          document.querySelector('#df-afb424ab-49d4-4233-91b0-27bea0b9b0ff button.colab-df-convert');\n",
              "        buttonEl.style.display =\n",
              "          google.colab.kernel.accessAllowed ? 'block' : 'none';\n",
              "\n",
              "        async function convertToInteractive(key) {\n",
              "          const element = document.querySelector('#df-afb424ab-49d4-4233-91b0-27bea0b9b0ff');\n",
              "          const dataTable =\n",
              "            await google.colab.kernel.invokeFunction('convertToInteractive',\n",
              "                                                     [key], {});\n",
              "          if (!dataTable) return;\n",
              "\n",
              "          const docLinkHtml = 'Like what you see? Visit the ' +\n",
              "            '<a target=\"_blank\" href=https://colab.research.google.com/notebooks/data_table.ipynb>data table notebook</a>'\n",
              "            + ' to learn more about interactive tables.';\n",
              "          element.innerHTML = '';\n",
              "          dataTable['output_type'] = 'display_data';\n",
              "          await google.colab.output.renderOutput(dataTable, element);\n",
              "          const docLink = document.createElement('div');\n",
              "          docLink.innerHTML = docLinkHtml;\n",
              "          element.appendChild(docLink);\n",
              "        }\n",
              "      </script>\n",
              "    </div>\n",
              "  </div>\n",
              "  "
            ]
          },
          "metadata": {},
          "execution_count": 61
        }
      ]
    },
    {
      "cell_type": "code",
      "source": [
        "# Dropping the columns 'Unnamed: 0' and 'key' as well as NA rows\n",
        "\n",
        "data = data.drop(['Unnamed: 0','key'],axis=1)\n",
        "data.dropna(axis=0,inplace=True)"
      ],
      "metadata": {
        "execution": {
          "iopub.status.busy": "2023-01-16T01:30:28.916137Z",
          "iopub.execute_input": "2023-01-16T01:30:28.916501Z",
          "iopub.status.idle": "2023-01-16T01:30:28.958963Z",
          "shell.execute_reply.started": "2023-01-16T01:30:28.916468Z",
          "shell.execute_reply": "2023-01-16T01:30:28.957644Z"
        },
        "trusted": true,
        "id": "ea42JOeYj3VM"
      },
      "execution_count": 10,
      "outputs": []
    },
    {
      "cell_type": "markdown",
      "source": [
        "# Exploratory Data Analysis (EDA) and Data Pre-processing"
      ],
      "metadata": {
        "id": "XuytTuNhj3VM"
      }
    },
    {
      "cell_type": "markdown",
      "source": [
        "Possibility of some outliers in fare amount and passanger\n",
        "\n",
        "Outliers:\n",
        "- Fare Amount is between -52 to 499. The negative amount seems unrealistic. Base fare to be set at $2.5\n",
        "- Passanger count max is 208, which is also not possible. Max to be set at 5"
      ],
      "metadata": {
        "id": "7lUwen_mj3VN"
      }
    },
    {
      "cell_type": "markdown",
      "source": [
        "### Identifying Correlations"
      ],
      "metadata": {
        "id": "aZcQAslRj3VN"
      }
    },
    {
      "cell_type": "code",
      "source": [
        "# Identify Correlation\n",
        "data.corr()"
      ],
      "metadata": {
        "execution": {
          "iopub.status.busy": "2023-01-16T01:30:29.049227Z",
          "iopub.execute_input": "2023-01-16T01:30:29.049552Z",
          "iopub.status.idle": "2023-01-16T01:30:29.093351Z",
          "shell.execute_reply.started": "2023-01-16T01:30:29.049523Z",
          "shell.execute_reply": "2023-01-16T01:30:29.092157Z"
        },
        "trusted": true,
        "colab": {
          "base_uri": "https://localhost:8080/",
          "height": 301
        },
        "id": "bZ5YwRVyj3VN",
        "outputId": "ccb9456e-1d59-4522-e2ed-1e6041759c7a"
      },
      "execution_count": null,
      "outputs": [
        {
          "output_type": "execute_result",
          "data": {
            "text/plain": [
              "                   fare_amount  pickup_longitude  pickup_latitude  \\\n",
              "fare_amount           1.000000          0.010458        -0.008482   \n",
              "pickup_longitude      0.010458          1.000000        -0.816461   \n",
              "pickup_latitude      -0.008482         -0.816461         1.000000   \n",
              "dropoff_longitude     0.008986          0.833026        -0.774787   \n",
              "dropoff_latitude     -0.011014         -0.846324         0.702367   \n",
              "passenger_count       0.010158         -0.000415        -0.001559   \n",
              "\n",
              "                   dropoff_longitude  dropoff_latitude  passenger_count  \n",
              "fare_amount                 0.008986         -0.011014         0.010158  \n",
              "pickup_longitude            0.833026         -0.846324        -0.000415  \n",
              "pickup_latitude            -0.774787          0.702367        -0.001559  \n",
              "dropoff_longitude           1.000000         -0.917010         0.000033  \n",
              "dropoff_latitude           -0.917010          1.000000        -0.000659  \n",
              "passenger_count             0.000033         -0.000659         1.000000  "
            ],
            "text/html": [
              "\n",
              "  <div id=\"df-56e8958d-2bcb-4168-930b-be3efad67f52\">\n",
              "    <div class=\"colab-df-container\">\n",
              "      <div>\n",
              "<style scoped>\n",
              "    .dataframe tbody tr th:only-of-type {\n",
              "        vertical-align: middle;\n",
              "    }\n",
              "\n",
              "    .dataframe tbody tr th {\n",
              "        vertical-align: top;\n",
              "    }\n",
              "\n",
              "    .dataframe thead th {\n",
              "        text-align: right;\n",
              "    }\n",
              "</style>\n",
              "<table border=\"1\" class=\"dataframe\">\n",
              "  <thead>\n",
              "    <tr style=\"text-align: right;\">\n",
              "      <th></th>\n",
              "      <th>fare_amount</th>\n",
              "      <th>pickup_longitude</th>\n",
              "      <th>pickup_latitude</th>\n",
              "      <th>dropoff_longitude</th>\n",
              "      <th>dropoff_latitude</th>\n",
              "      <th>passenger_count</th>\n",
              "    </tr>\n",
              "  </thead>\n",
              "  <tbody>\n",
              "    <tr>\n",
              "      <th>fare_amount</th>\n",
              "      <td>1.000000</td>\n",
              "      <td>0.010458</td>\n",
              "      <td>-0.008482</td>\n",
              "      <td>0.008986</td>\n",
              "      <td>-0.011014</td>\n",
              "      <td>0.010158</td>\n",
              "    </tr>\n",
              "    <tr>\n",
              "      <th>pickup_longitude</th>\n",
              "      <td>0.010458</td>\n",
              "      <td>1.000000</td>\n",
              "      <td>-0.816461</td>\n",
              "      <td>0.833026</td>\n",
              "      <td>-0.846324</td>\n",
              "      <td>-0.000415</td>\n",
              "    </tr>\n",
              "    <tr>\n",
              "      <th>pickup_latitude</th>\n",
              "      <td>-0.008482</td>\n",
              "      <td>-0.816461</td>\n",
              "      <td>1.000000</td>\n",
              "      <td>-0.774787</td>\n",
              "      <td>0.702367</td>\n",
              "      <td>-0.001559</td>\n",
              "    </tr>\n",
              "    <tr>\n",
              "      <th>dropoff_longitude</th>\n",
              "      <td>0.008986</td>\n",
              "      <td>0.833026</td>\n",
              "      <td>-0.774787</td>\n",
              "      <td>1.000000</td>\n",
              "      <td>-0.917010</td>\n",
              "      <td>0.000033</td>\n",
              "    </tr>\n",
              "    <tr>\n",
              "      <th>dropoff_latitude</th>\n",
              "      <td>-0.011014</td>\n",
              "      <td>-0.846324</td>\n",
              "      <td>0.702367</td>\n",
              "      <td>-0.917010</td>\n",
              "      <td>1.000000</td>\n",
              "      <td>-0.000659</td>\n",
              "    </tr>\n",
              "    <tr>\n",
              "      <th>passenger_count</th>\n",
              "      <td>0.010158</td>\n",
              "      <td>-0.000415</td>\n",
              "      <td>-0.001559</td>\n",
              "      <td>0.000033</td>\n",
              "      <td>-0.000659</td>\n",
              "      <td>1.000000</td>\n",
              "    </tr>\n",
              "  </tbody>\n",
              "</table>\n",
              "</div>\n",
              "      <button class=\"colab-df-convert\" onclick=\"convertToInteractive('df-56e8958d-2bcb-4168-930b-be3efad67f52')\"\n",
              "              title=\"Convert this dataframe to an interactive table.\"\n",
              "              style=\"display:none;\">\n",
              "        \n",
              "  <svg xmlns=\"http://www.w3.org/2000/svg\" height=\"24px\"viewBox=\"0 0 24 24\"\n",
              "       width=\"24px\">\n",
              "    <path d=\"M0 0h24v24H0V0z\" fill=\"none\"/>\n",
              "    <path d=\"M18.56 5.44l.94 2.06.94-2.06 2.06-.94-2.06-.94-.94-2.06-.94 2.06-2.06.94zm-11 1L8.5 8.5l.94-2.06 2.06-.94-2.06-.94L8.5 2.5l-.94 2.06-2.06.94zm10 10l.94 2.06.94-2.06 2.06-.94-2.06-.94-.94-2.06-.94 2.06-2.06.94z\"/><path d=\"M17.41 7.96l-1.37-1.37c-.4-.4-.92-.59-1.43-.59-.52 0-1.04.2-1.43.59L10.3 9.45l-7.72 7.72c-.78.78-.78 2.05 0 2.83L4 21.41c.39.39.9.59 1.41.59.51 0 1.02-.2 1.41-.59l7.78-7.78 2.81-2.81c.8-.78.8-2.07 0-2.86zM5.41 20L4 18.59l7.72-7.72 1.47 1.35L5.41 20z\"/>\n",
              "  </svg>\n",
              "      </button>\n",
              "      \n",
              "  <style>\n",
              "    .colab-df-container {\n",
              "      display:flex;\n",
              "      flex-wrap:wrap;\n",
              "      gap: 12px;\n",
              "    }\n",
              "\n",
              "    .colab-df-convert {\n",
              "      background-color: #E8F0FE;\n",
              "      border: none;\n",
              "      border-radius: 50%;\n",
              "      cursor: pointer;\n",
              "      display: none;\n",
              "      fill: #1967D2;\n",
              "      height: 32px;\n",
              "      padding: 0 0 0 0;\n",
              "      width: 32px;\n",
              "    }\n",
              "\n",
              "    .colab-df-convert:hover {\n",
              "      background-color: #E2EBFA;\n",
              "      box-shadow: 0px 1px 2px rgba(60, 64, 67, 0.3), 0px 1px 3px 1px rgba(60, 64, 67, 0.15);\n",
              "      fill: #174EA6;\n",
              "    }\n",
              "\n",
              "    [theme=dark] .colab-df-convert {\n",
              "      background-color: #3B4455;\n",
              "      fill: #D2E3FC;\n",
              "    }\n",
              "\n",
              "    [theme=dark] .colab-df-convert:hover {\n",
              "      background-color: #434B5C;\n",
              "      box-shadow: 0px 1px 3px 1px rgba(0, 0, 0, 0.15);\n",
              "      filter: drop-shadow(0px 1px 2px rgba(0, 0, 0, 0.3));\n",
              "      fill: #FFFFFF;\n",
              "    }\n",
              "  </style>\n",
              "\n",
              "      <script>\n",
              "        const buttonEl =\n",
              "          document.querySelector('#df-56e8958d-2bcb-4168-930b-be3efad67f52 button.colab-df-convert');\n",
              "        buttonEl.style.display =\n",
              "          google.colab.kernel.accessAllowed ? 'block' : 'none';\n",
              "\n",
              "        async function convertToInteractive(key) {\n",
              "          const element = document.querySelector('#df-56e8958d-2bcb-4168-930b-be3efad67f52');\n",
              "          const dataTable =\n",
              "            await google.colab.kernel.invokeFunction('convertToInteractive',\n",
              "                                                     [key], {});\n",
              "          if (!dataTable) return;\n",
              "\n",
              "          const docLinkHtml = 'Like what you see? Visit the ' +\n",
              "            '<a target=\"_blank\" href=https://colab.research.google.com/notebooks/data_table.ipynb>data table notebook</a>'\n",
              "            + ' to learn more about interactive tables.';\n",
              "          element.innerHTML = '';\n",
              "          dataTable['output_type'] = 'display_data';\n",
              "          await google.colab.output.renderOutput(dataTable, element);\n",
              "          const docLink = document.createElement('div');\n",
              "          docLink.innerHTML = docLinkHtml;\n",
              "          element.appendChild(docLink);\n",
              "        }\n",
              "      </script>\n",
              "    </div>\n",
              "  </div>\n",
              "  "
            ]
          },
          "metadata": {},
          "execution_count": 12
        }
      ]
    },
    {
      "cell_type": "code",
      "source": [
        "# Plot the Correlation matrix\n",
        "plt.figure(figsize=(15,10))\n",
        "sns.heatmap(data.corr(), annot=True, linewidths=.5, vmin = -1, vmax = 1, fmt = '.2g')"
      ],
      "metadata": {
        "execution": {
          "iopub.status.busy": "2023-01-16T01:30:29.094598Z",
          "iopub.execute_input": "2023-01-16T01:30:29.095025Z",
          "iopub.status.idle": "2023-01-16T01:30:29.665887Z",
          "shell.execute_reply.started": "2023-01-16T01:30:29.094994Z",
          "shell.execute_reply": "2023-01-16T01:30:29.664659Z"
        },
        "trusted": true,
        "colab": {
          "base_uri": "https://localhost:8080/",
          "height": 613
        },
        "id": "uSUMI6zWj3VN",
        "outputId": "c8f2ae2e-fd24-40bd-a94f-06911939eb66"
      },
      "execution_count": null,
      "outputs": [
        {
          "output_type": "execute_result",
          "data": {
            "text/plain": [
              "<Axes: >"
            ]
          },
          "metadata": {},
          "execution_count": 13
        },
        {
          "output_type": "display_data",
          "data": {
            "text/plain": [
              "<Figure size 1080x720 with 2 Axes>"
            ],
            "image/png": "[encoded data removed]"
          },
          "metadata": {
            "needs_background": "light"
          }
        }
      ]
    },
    {
      "cell_type": "markdown",
      "source": [
        "High correlation can be observed between the geo-spatial data points, which was expected. Therefore, there is no need to drop any of the independent variables"
      ],
      "metadata": {
        "id": "qzoGjRnYj3VN"
      }
    },
    {
      "cell_type": "code",
      "source": [
        "from math import *"
      ],
      "metadata": {
        "execution": {
          "iopub.status.busy": "2023-01-16T01:30:29.6675Z",
          "iopub.execute_input": "2023-01-16T01:30:29.667971Z",
          "iopub.status.idle": "2023-01-16T01:30:29.67418Z",
          "shell.execute_reply.started": "2023-01-16T01:30:29.667925Z",
          "shell.execute_reply": "2023-01-16T01:30:29.672962Z"
        },
        "trusted": true,
        "id": "WXz6hoBkj3VN"
      },
      "execution_count": 13,
      "outputs": []
    },
    {
      "cell_type": "code",
      "source": [
        "# Define formula to calculate haversine distance\n",
        "def distance(longitude1, latitude1, longitude2, latitude2):\n",
        "    travel_dist = []\n",
        "    \n",
        "    for pos in range(len(longitude1)):\n",
        "        long1,lati1,long2,lati2 = map(radians,[longitude1[pos],latitude1[pos],longitude2[pos],latitude2[pos]])\n",
        "        dist_long = long2 - long1\n",
        "        dist_lati = lati2 - lati1\n",
        "        a = sin(dist_lati/2)**2 + cos(lati1) * cos(lati2) * sin(dist_long/2)**2\n",
        "        c = 2 * asin(sqrt(a))*6371\n",
        "        travel_dist.append(c)\n",
        "       \n",
        "    return travel_dist"
      ],
      "metadata": {
        "execution": {
          "iopub.status.busy": "2023-01-16T01:30:29.679688Z",
          "iopub.execute_input": "2023-01-16T01:30:29.680186Z",
          "iopub.status.idle": "2023-01-16T01:30:29.688493Z",
          "shell.execute_reply.started": "2023-01-16T01:30:29.680147Z",
          "shell.execute_reply": "2023-01-16T01:30:29.687296Z"
        },
        "trusted": true,
        "id": "iaiav6M2j3VN"
      },
      "execution_count": 14,
      "outputs": []
    },
    {
      "cell_type": "code",
      "source": [
        "# Calculate Haversine distance for each row and add distance in km as a new column\n",
        "data['distance_travelled'] = distance(data['pickup_longitude'].to_numpy(),\n",
        "                                                data['pickup_latitude'].to_numpy(),\n",
        "                                                data['dropoff_longitude'].to_numpy(),\n",
        "                                                data['dropoff_latitude'].to_numpy()\n",
        "                                              )"
      ],
      "metadata": {
        "execution": {
          "iopub.status.busy": "2023-01-16T01:30:29.689818Z",
          "iopub.execute_input": "2023-01-16T01:30:29.69025Z",
          "iopub.status.idle": "2023-01-16T01:30:30.134287Z",
          "shell.execute_reply.started": "2023-01-16T01:30:29.690217Z",
          "shell.execute_reply": "2023-01-16T01:30:30.133281Z"
        },
        "trusted": true,
        "id": "QpDgPQvFj3VO"
      },
      "execution_count": 15,
      "outputs": []
    },
    {
      "cell_type": "code",
      "source": [
        "data.info()"
      ],
      "metadata": {
        "execution": {
          "iopub.status.busy": "2023-01-16T01:30:30.135731Z",
          "iopub.execute_input": "2023-01-16T01:30:30.136094Z",
          "iopub.status.idle": "2023-01-16T01:30:30.161721Z",
          "shell.execute_reply.started": "2023-01-16T01:30:30.136059Z",
          "shell.execute_reply": "2023-01-16T01:30:30.160453Z"
        },
        "trusted": true,
        "colab": {
          "base_uri": "https://localhost:8080/"
        },
        "id": "r4lYNESrj3VO",
        "outputId": "51a621ae-764f-4984-fedf-802c4d676eac"
      },
      "execution_count": 16,
      "outputs": [
        {
          "output_type": "stream",
          "name": "stdout",
          "text": [
            "<class 'pandas.core.frame.DataFrame'>\n",
            "Int64Index: 199999 entries, 0 to 199999\n",
            "Data columns (total 8 columns):\n",
            " #   Column              Non-Null Count   Dtype  \n",
            "---  ------              --------------   -----  \n",
            " 0   fare_amount         199999 non-null  float64\n",
            " 1   pickup_datetime     199999 non-null  object \n",
            " 2   pickup_longitude    199999 non-null  float64\n",
            " 3   pickup_latitude     199999 non-null  float64\n",
            " 4   dropoff_longitude   199999 non-null  float64\n",
            " 5   dropoff_latitude    199999 non-null  float64\n",
            " 6   passenger_count     199999 non-null  int64  \n",
            " 7   distance_travelled  199999 non-null  float64\n",
            "dtypes: float64(6), int64(1), object(1)\n",
            "memory usage: 13.7+ MB\n"
          ]
        }
      ]
    },
    {
      "cell_type": "code",
      "source": [
        "# As we can see, pickup_datetime is being read as an object data type. However, we need to convert it into datetime data type\n",
        "data['pickup_datetime']  = pd.to_datetime(data['pickup_datetime'])"
      ],
      "metadata": {
        "execution": {
          "iopub.status.busy": "2023-01-16T01:30:30.163125Z",
          "iopub.execute_input": "2023-01-16T01:30:30.163496Z",
          "iopub.status.idle": "2023-01-16T01:30:59.536869Z",
          "shell.execute_reply.started": "2023-01-16T01:30:30.163462Z",
          "shell.execute_reply": "2023-01-16T01:30:59.535839Z"
        },
        "trusted": true,
        "id": "xjnNyC7Mj3VO"
      },
      "execution_count": 17,
      "outputs": []
    },
    {
      "cell_type": "code",
      "source": [
        "data.info()"
      ],
      "metadata": {
        "execution": {
          "iopub.status.busy": "2023-01-16T01:30:59.538384Z",
          "iopub.execute_input": "2023-01-16T01:30:59.539193Z",
          "iopub.status.idle": "2023-01-16T01:30:59.556841Z",
          "shell.execute_reply.started": "2023-01-16T01:30:59.539143Z",
          "shell.execute_reply": "2023-01-16T01:30:59.55549Z"
        },
        "trusted": true,
        "colab": {
          "base_uri": "https://localhost:8080/"
        },
        "id": "EuXSrwJgj3VO",
        "outputId": "fbb94259-8afd-4aff-bb9c-3fd7c84063f5"
      },
      "execution_count": 18,
      "outputs": [
        {
          "output_type": "stream",
          "name": "stdout",
          "text": [
            "<class 'pandas.core.frame.DataFrame'>\n",
            "Int64Index: 199999 entries, 0 to 199999\n",
            "Data columns (total 8 columns):\n",
            " #   Column              Non-Null Count   Dtype              \n",
            "---  ------              --------------   -----              \n",
            " 0   fare_amount         199999 non-null  float64            \n",
            " 1   pickup_datetime     199999 non-null  datetime64[ns, UTC]\n",
            " 2   pickup_longitude    199999 non-null  float64            \n",
            " 3   pickup_latitude     199999 non-null  float64            \n",
            " 4   dropoff_longitude   199999 non-null  float64            \n",
            " 5   dropoff_latitude    199999 non-null  float64            \n",
            " 6   passenger_count     199999 non-null  int64              \n",
            " 7   distance_travelled  199999 non-null  float64            \n",
            "dtypes: datetime64[ns, UTC](1), float64(6), int64(1)\n",
            "memory usage: 13.7 MB\n"
          ]
        }
      ]
    },
    {
      "cell_type": "code",
      "source": [
        "# From pickup_datetime extract date, month, year, weekday and dayname\n",
        "from datetime import datetime\n",
        "\n",
        "data['date'] = pd.to_datetime(data['pickup_datetime']).dt.date\n",
        "data['month'] = pd.to_datetime(data['pickup_datetime']).dt.month\n",
        "data['year'] = pd.to_datetime(data['pickup_datetime']).dt.year\n",
        "data['day_of_the_week'] = pd.to_datetime(data['pickup_datetime']).dt.weekday\n",
        "data['day_name'] = pd.to_datetime(data['pickup_datetime']).dt.day_name()\n",
        "data['pickup_time'] = pd.to_datetime(data['pickup_datetime']).dt.time\n",
        "data['pickup_hour'] = pd.to_datetime(data['pickup_datetime']).dt.hour"
      ],
      "metadata": {
        "execution": {
          "iopub.status.busy": "2023-01-16T01:30:59.55836Z",
          "iopub.execute_input": "2023-01-16T01:30:59.558709Z",
          "iopub.status.idle": "2023-01-16T01:31:00.103832Z",
          "shell.execute_reply.started": "2023-01-16T01:30:59.558677Z",
          "shell.execute_reply": "2023-01-16T01:31:00.102496Z"
        },
        "trusted": true,
        "id": "5onxREY8j3VO"
      },
      "execution_count": 19,
      "outputs": []
    },
    {
      "cell_type": "code",
      "source": [
        "data.info()"
      ],
      "metadata": {
        "scrolled": true,
        "execution": {
          "iopub.status.busy": "2023-01-16T01:31:00.106131Z",
          "iopub.execute_input": "2023-01-16T01:31:00.106482Z",
          "iopub.status.idle": "2023-01-16T01:31:00.15362Z",
          "shell.execute_reply.started": "2023-01-16T01:31:00.106452Z",
          "shell.execute_reply": "2023-01-16T01:31:00.152378Z"
        },
        "trusted": true,
        "colab": {
          "base_uri": "https://localhost:8080/"
        },
        "id": "z50SjqCyj3VO",
        "outputId": "c9bb16ea-2639-41c8-e69d-50df1d8bd618"
      },
      "execution_count": 20,
      "outputs": [
        {
          "output_type": "stream",
          "name": "stdout",
          "text": [
            "<class 'pandas.core.frame.DataFrame'>\n",
            "Int64Index: 199999 entries, 0 to 199999\n",
            "Data columns (total 15 columns):\n",
            " #   Column              Non-Null Count   Dtype              \n",
            "---  ------              --------------   -----              \n",
            " 0   fare_amount         199999 non-null  float64            \n",
            " 1   pickup_datetime     199999 non-null  datetime64[ns, UTC]\n",
            " 2   pickup_longitude    199999 non-null  float64            \n",
            " 3   pickup_latitude     199999 non-null  float64            \n",
            " 4   dropoff_longitude   199999 non-null  float64            \n",
            " 5   dropoff_latitude    199999 non-null  float64            \n",
            " 6   passenger_count     199999 non-null  int64              \n",
            " 7   distance_travelled  199999 non-null  float64            \n",
            " 8   date                199999 non-null  object             \n",
            " 9   month               199999 non-null  int64              \n",
            " 10  year                199999 non-null  int64              \n",
            " 11  day_of_the_week     199999 non-null  int64              \n",
            " 12  day_name            199999 non-null  object             \n",
            " 13  pickup_time         199999 non-null  object             \n",
            " 14  pickup_hour         199999 non-null  int64              \n",
            "dtypes: datetime64[ns, UTC](1), float64(6), int64(5), object(3)\n",
            "memory usage: 24.4+ MB\n"
          ]
        }
      ]
    },
    {
      "cell_type": "markdown",
      "source": [
        "### Outlier Treatment"
      ],
      "metadata": {
        "id": "bdAiumrAj3VP"
      }
    },
    {
      "cell_type": "markdown",
      "source": [
        "The following treatment is being done to outliers:\n",
        "- passanger_count should be less than 5\n",
        "- rows with passanger_count = 0 should be dropped\n",
        "- fare_amount should be kept to the minimum set by Uber, i.e., $2.5\n",
        "- distance should be maximum 130 km\n",
        "- distance travelled cannot be zero. Rows with distance = 0 must be dropped"
      ],
      "metadata": {
        "id": "HD35QMe-j3VP"
      }
    },
    {
      "cell_type": "code",
      "source": [
        "data.drop(data[data['passenger_count'] > 5].index, axis=0, inplace = True)\n",
        "data.drop(data[data['passenger_count'] == 0].index, axis=0, inplace = True)\n",
        "data.drop(data[data['fare_amount'] < 2.5].index, axis=0, inplace = True)\n",
        "data.drop(data[data['distance_travelled'] > 130].index, axis=0, inplace = True)\n",
        "data.drop(data[data['distance_travelled'] == 0].index, axis=0, inplace = True)\n",
        "data.dropna(axis=0,inplace=True)"
      ],
      "metadata": {
        "execution": {
          "iopub.status.busy": "2023-01-16T01:31:00.15481Z",
          "iopub.execute_input": "2023-01-16T01:31:00.155879Z",
          "iopub.status.idle": "2023-01-16T01:31:00.426388Z",
          "shell.execute_reply.started": "2023-01-16T01:31:00.15584Z",
          "shell.execute_reply": "2023-01-16T01:31:00.424948Z"
        },
        "trusted": true,
        "id": "33mKaPYkj3VP"
      },
      "execution_count": 21,
      "outputs": []
    },
    {
      "cell_type": "code",
      "source": [
        "data.head()"
      ],
      "metadata": {
        "execution": {
          "iopub.status.busy": "2023-01-16T01:31:00.428211Z",
          "iopub.execute_input": "2023-01-16T01:31:00.428585Z",
          "iopub.status.idle": "2023-01-16T01:31:00.449675Z",
          "shell.execute_reply.started": "2023-01-16T01:31:00.428552Z",
          "shell.execute_reply": "2023-01-16T01:31:00.448195Z"
        },
        "trusted": true,
        "colab": {
          "base_uri": "https://localhost:8080/",
          "height": 357
        },
        "id": "omY2OiGrj3VP",
        "outputId": "972db712-bf78-49f0-91ba-35f0f538fdd3"
      },
      "execution_count": 22,
      "outputs": [
        {
          "output_type": "execute_result",
          "data": {
            "text/plain": [
              "   fare_amount           pickup_datetime  pickup_longitude  pickup_latitude  \\\n",
              "0          7.5 2015-05-07 19:52:06+00:00        -73.999817        40.738354   \n",
              "1          7.7 2009-07-17 20:04:56+00:00        -73.994355        40.728225   \n",
              "2         12.9 2009-08-24 21:45:00+00:00        -74.005043        40.740770   \n",
              "3          5.3 2009-06-26 08:22:21+00:00        -73.976124        40.790844   \n",
              "4         16.0 2014-08-28 17:47:00+00:00        -73.925023        40.744085   \n",
              "\n",
              "   dropoff_longitude  dropoff_latitude  passenger_count  distance_travelled  \\\n",
              "0         -73.999512         40.723217                1            1.683323   \n",
              "1         -73.994710         40.750325                1            2.457590   \n",
              "2         -73.962565         40.772647                1            5.036377   \n",
              "3         -73.965316         40.803349                3            1.661683   \n",
              "4         -73.973082         40.761247                5            4.475450   \n",
              "\n",
              "         date  month  year  day_of_the_week  day_name pickup_time  pickup_hour  \n",
              "0  2015-05-07      5  2015                3  Thursday    19:52:06           19  \n",
              "1  2009-07-17      7  2009                4    Friday    20:04:56           20  \n",
              "2  2009-08-24      8  2009                0    Monday    21:45:00           21  \n",
              "3  2009-06-26      6  2009                4    Friday    08:22:21            8  \n",
              "4  2014-08-28      8  2014                3  Thursday    17:47:00           17  "
            ],
            "text/html": [
              "\n",
              "  <div id=\"df-a00d5abe-f64a-4a6c-9cb8-858c2cc912c7\">\n",
              "    <div class=\"colab-df-container\">\n",
              "      <div>\n",
              "<style scoped>\n",
              "    .dataframe tbody tr th:only-of-type {\n",
              "        vertical-align: middle;\n",
              "    }\n",
              "\n",
              "    .dataframe tbody tr th {\n",
              "        vertical-align: top;\n",
              "    }\n",
              "\n",
              "    .dataframe thead th {\n",
              "        text-align: right;\n",
              "    }\n",
              "</style>\n",
              "<table border=\"1\" class=\"dataframe\">\n",
              "  <thead>\n",
              "    <tr style=\"text-align: right;\">\n",
              "      <th></th>\n",
              "      <th>fare_amount</th>\n",
              "      <th>pickup_datetime</th>\n",
              "      <th>pickup_longitude</th>\n",
              "      <th>pickup_latitude</th>\n",
              "      <th>dropoff_longitude</th>\n",
              "      <th>dropoff_latitude</th>\n",
              "      <th>passenger_count</th>\n",
              "      <th>distance_travelled</th>\n",
              "      <th>date</th>\n",
              "      <th>month</th>\n",
              "      <th>year</th>\n",
              "      <th>day_of_the_week</th>\n",
              "      <th>day_name</th>\n",
              "      <th>pickup_time</th>\n",
              "      <th>pickup_hour</th>\n",
              "    </tr>\n",
              "  </thead>\n",
              "  <tbody>\n",
              "    <tr>\n",
              "      <th>0</th>\n",
              "      <td>7.5</td>\n",
              "      <td>2015-05-07 19:52:06+00:00</td>\n",
              "      <td>-73.999817</td>\n",
              "      <td>40.738354</td>\n",
              "      <td>-73.999512</td>\n",
              "      <td>40.723217</td>\n",
              "      <td>1</td>\n",
              "      <td>1.683323</td>\n",
              "      <td>2015-05-07</td>\n",
              "      <td>5</td>\n",
              "      <td>2015</td>\n",
              "      <td>3</td>\n",
              "      <td>Thursday</td>\n",
              "      <td>19:52:06</td>\n",
              "      <td>19</td>\n",
              "    </tr>\n",
              "    <tr>\n",
              "      <th>1</th>\n",
              "      <td>7.7</td>\n",
              "      <td>2009-07-17 20:04:56+00:00</td>\n",
              "      <td>-73.994355</td>\n",
              "      <td>40.728225</td>\n",
              "      <td>-73.994710</td>\n",
              "      <td>40.750325</td>\n",
              "      <td>1</td>\n",
              "      <td>2.457590</td>\n",
              "      <td>2009-07-17</td>\n",
              "      <td>7</td>\n",
              "      <td>2009</td>\n",
              "      <td>4</td>\n",
              "      <td>Friday</td>\n",
              "      <td>20:04:56</td>\n",
              "      <td>20</td>\n",
              "    </tr>\n",
              "    <tr>\n",
              "      <th>2</th>\n",
              "      <td>12.9</td>\n",
              "      <td>2009-08-24 21:45:00+00:00</td>\n",
              "      <td>-74.005043</td>\n",
              "      <td>40.740770</td>\n",
              "      <td>-73.962565</td>\n",
              "      <td>40.772647</td>\n",
              "      <td>1</td>\n",
              "      <td>5.036377</td>\n",
              "      <td>2009-08-24</td>\n",
              "      <td>8</td>\n",
              "      <td>2009</td>\n",
              "      <td>0</td>\n",
              "      <td>Monday</td>\n",
              "      <td>21:45:00</td>\n",
              "      <td>21</td>\n",
              "    </tr>\n",
              "    <tr>\n",
              "      <th>3</th>\n",
              "      <td>5.3</td>\n",
              "      <td>2009-06-26 08:22:21+00:00</td>\n",
              "      <td>-73.976124</td>\n",
              "      <td>40.790844</td>\n",
              "      <td>-73.965316</td>\n",
              "      <td>40.803349</td>\n",
              "      <td>3</td>\n",
              "      <td>1.661683</td>\n",
              "      <td>2009-06-26</td>\n",
              "      <td>6</td>\n",
              "      <td>2009</td>\n",
              "      <td>4</td>\n",
              "      <td>Friday</td>\n",
              "      <td>08:22:21</td>\n",
              "      <td>8</td>\n",
              "    </tr>\n",
              "    <tr>\n",
              "      <th>4</th>\n",
              "      <td>16.0</td>\n",
              "      <td>2014-08-28 17:47:00+00:00</td>\n",
              "      <td>-73.925023</td>\n",
              "      <td>40.744085</td>\n",
              "      <td>-73.973082</td>\n",
              "      <td>40.761247</td>\n",
              "      <td>5</td>\n",
              "      <td>4.475450</td>\n",
              "      <td>2014-08-28</td>\n",
              "      <td>8</td>\n",
              "      <td>2014</td>\n",
              "      <td>3</td>\n",
              "      <td>Thursday</td>\n",
              "      <td>17:47:00</td>\n",
              "      <td>17</td>\n",
              "    </tr>\n",
              "  </tbody>\n",
              "</table>\n",
              "</div>\n",
              "      <button class=\"colab-df-convert\" onclick=\"convertToInteractive('df-a00d5abe-f64a-4a6c-9cb8-858c2cc912c7')\"\n",
              "              title=\"Convert this dataframe to an interactive table.\"\n",
              "              style=\"display:none;\">\n",
              "        \n",
              "  <svg xmlns=\"http://www.w3.org/2000/svg\" height=\"24px\"viewBox=\"0 0 24 24\"\n",
              "       width=\"24px\">\n",
              "    <path d=\"M0 0h24v24H0V0z\" fill=\"none\"/>\n",
              "    <path d=\"M18.56 5.44l.94 2.06.94-2.06 2.06-.94-2.06-.94-.94-2.06-.94 2.06-2.06.94zm-11 1L8.5 8.5l.94-2.06 2.06-.94-2.06-.94L8.5 2.5l-.94 2.06-2.06.94zm10 10l.94 2.06.94-2.06 2.06-.94-2.06-.94-.94-2.06-.94 2.06-2.06.94z\"/><path d=\"M17.41 7.96l-1.37-1.37c-.4-.4-.92-.59-1.43-.59-.52 0-1.04.2-1.43.59L10.3 9.45l-7.72 7.72c-.78.78-.78 2.05 0 2.83L4 21.41c.39.39.9.59 1.41.59.51 0 1.02-.2 1.41-.59l7.78-7.78 2.81-2.81c.8-.78.8-2.07 0-2.86zM5.41 20L4 18.59l7.72-7.72 1.47 1.35L5.41 20z\"/>\n",
              "  </svg>\n",
              "      </button>\n",
              "      \n",
              "  <style>\n",
              "    .colab-df-container {\n",
              "      display:flex;\n",
              "      flex-wrap:wrap;\n",
              "      gap: 12px;\n",
              "    }\n",
              "\n",
              "    .colab-df-convert {\n",
              "      background-color: #E8F0FE;\n",
              "      border: none;\n",
              "      border-radius: 50%;\n",
              "      cursor: pointer;\n",
              "      display: none;\n",
              "      fill: #1967D2;\n",
              "      height: 32px;\n",
              "      padding: 0 0 0 0;\n",
              "      width: 32px;\n",
              "    }\n",
              "\n",
              "    .colab-df-convert:hover {\n",
              "      background-color: #E2EBFA;\n",
              "      box-shadow: 0px 1px 2px rgba(60, 64, 67, 0.3), 0px 1px 3px 1px rgba(60, 64, 67, 0.15);\n",
              "      fill: #174EA6;\n",
              "    }\n",
              "\n",
              "    [theme=dark] .colab-df-convert {\n",
              "      background-color: #3B4455;\n",
              "      fill: #D2E3FC;\n",
              "    }\n",
              "\n",
              "    [theme=dark] .colab-df-convert:hover {\n",
              "      background-color: #434B5C;\n",
              "      box-shadow: 0px 1px 3px 1px rgba(0, 0, 0, 0.15);\n",
              "      filter: drop-shadow(0px 1px 2px rgba(0, 0, 0, 0.3));\n",
              "      fill: #FFFFFF;\n",
              "    }\n",
              "  </style>\n",
              "\n",
              "      <script>\n",
              "        const buttonEl =\n",
              "          document.querySelector('#df-a00d5abe-f64a-4a6c-9cb8-858c2cc912c7 button.colab-df-convert');\n",
              "        buttonEl.style.display =\n",
              "          google.colab.kernel.accessAllowed ? 'block' : 'none';\n",
              "\n",
              "        async function convertToInteractive(key) {\n",
              "          const element = document.querySelector('#df-a00d5abe-f64a-4a6c-9cb8-858c2cc912c7');\n",
              "          const dataTable =\n",
              "            await google.colab.kernel.invokeFunction('convertToInteractive',\n",
              "                                                     [key], {});\n",
              "          if (!dataTable) return;\n",
              "\n",
              "          const docLinkHtml = 'Like what you see? Visit the ' +\n",
              "            '<a target=\"_blank\" href=https://colab.research.google.com/notebooks/data_table.ipynb>data table notebook</a>'\n",
              "            + ' to learn more about interactive tables.';\n",
              "          element.innerHTML = '';\n",
              "          dataTable['output_type'] = 'display_data';\n",
              "          await google.colab.output.renderOutput(dataTable, element);\n",
              "          const docLink = document.createElement('div');\n",
              "          docLink.innerHTML = docLinkHtml;\n",
              "          element.appendChild(docLink);\n",
              "        }\n",
              "      </script>\n",
              "    </div>\n",
              "  </div>\n",
              "  "
            ]
          },
          "metadata": {},
          "execution_count": 22
        }
      ]
    },
    {
      "cell_type": "code",
      "source": [
        "data.describe() \n"
      ],
      "metadata": {
        "scrolled": true,
        "execution": {
          "iopub.status.busy": "2023-01-16T01:31:00.451749Z",
          "iopub.execute_input": "2023-01-16T01:31:00.452273Z",
          "iopub.status.idle": "2023-01-16T01:31:00.584164Z",
          "shell.execute_reply.started": "2023-01-16T01:31:00.452223Z",
          "shell.execute_reply": "2023-01-16T01:31:00.583014Z"
        },
        "trusted": true,
        "colab": {
          "base_uri": "https://localhost:8080/",
          "height": 364
        },
        "id": "7rr3m7uCj3VP",
        "outputId": "a69eec55-d783-4b45-a056-6cfe58783d77"
      },
      "execution_count": 26,
      "outputs": [
        {
          "output_type": "execute_result",
          "data": {
            "text/plain": [
              "         fare_amount  passenger_count  distance_travelled          month  \\\n",
              "count  189061.000000    189061.000000       189061.000000  189061.000000   \n",
              "mean       11.336739         1.595115            3.377859       6.282337   \n",
              "std         9.730745         1.150926            3.984585       3.439349   \n",
              "min         2.500000         1.000000            0.000084       1.000000   \n",
              "25%         6.000000         1.000000            1.279954       3.000000   \n",
              "50%         8.500000         1.000000            2.181325       6.000000   \n",
              "75%        12.500000         2.000000            3.938054       9.000000   \n",
              "max       499.000000         5.000000          129.610094      12.000000   \n",
              "\n",
              "                year  day_of_the_week    pickup_hour  \n",
              "count  189061.000000    189061.000000  189061.000000  \n",
              "mean     2011.719302         3.049095      13.489234  \n",
              "std         1.862527         1.946679       6.518660  \n",
              "min      2009.000000         0.000000       0.000000  \n",
              "25%      2010.000000         1.000000       9.000000  \n",
              "50%      2012.000000         3.000000      14.000000  \n",
              "75%      2013.000000         5.000000      19.000000  \n",
              "max      2015.000000         6.000000      23.000000  "
            ],
            "text/html": [
              "\n",
              "  <div id=\"df-68d6394c-8aeb-4d8b-ace8-791f09e3943a\">\n",
              "    <div class=\"colab-df-container\">\n",
              "      <div>\n",
              "<style scoped>\n",
              "    .dataframe tbody tr th:only-of-type {\n",
              "        vertical-align: middle;\n",
              "    }\n",
              "\n",
              "    .dataframe tbody tr th {\n",
              "        vertical-align: top;\n",
              "    }\n",
              "\n",
              "    .dataframe thead th {\n",
              "        text-align: right;\n",
              "    }\n",
              "</style>\n",
              "<table border=\"1\" class=\"dataframe\">\n",
              "  <thead>\n",
              "    <tr style=\"text-align: right;\">\n",
              "      <th></th>\n",
              "      <th>fare_amount</th>\n",
              "      <th>passenger_count</th>\n",
              "      <th>distance_travelled</th>\n",
              "      <th>month</th>\n",
              "      <th>year</th>\n",
              "      <th>day_of_the_week</th>\n",
              "      <th>pickup_hour</th>\n",
              "    </tr>\n",
              "  </thead>\n",
              "  <tbody>\n",
              "    <tr>\n",
              "      <th>count</th>\n",
              "      <td>189061.000000</td>\n",
              "      <td>189061.000000</td>\n",
              "      <td>189061.000000</td>\n",
              "      <td>189061.000000</td>\n",
              "      <td>189061.000000</td>\n",
              "      <td>189061.000000</td>\n",
              "      <td>189061.000000</td>\n",
              "    </tr>\n",
              "    <tr>\n",
              "      <th>mean</th>\n",
              "      <td>11.336739</td>\n",
              "      <td>1.595115</td>\n",
              "      <td>3.377859</td>\n",
              "      <td>6.282337</td>\n",
              "      <td>2011.719302</td>\n",
              "      <td>3.049095</td>\n",
              "      <td>13.489234</td>\n",
              "    </tr>\n",
              "    <tr>\n",
              "      <th>std</th>\n",
              "      <td>9.730745</td>\n",
              "      <td>1.150926</td>\n",
              "      <td>3.984585</td>\n",
              "      <td>3.439349</td>\n",
              "      <td>1.862527</td>\n",
              "      <td>1.946679</td>\n",
              "      <td>6.518660</td>\n",
              "    </tr>\n",
              "    <tr>\n",
              "      <th>min</th>\n",
              "      <td>2.500000</td>\n",
              "      <td>1.000000</td>\n",
              "      <td>0.000084</td>\n",
              "      <td>1.000000</td>\n",
              "      <td>2009.000000</td>\n",
              "      <td>0.000000</td>\n",
              "      <td>0.000000</td>\n",
              "    </tr>\n",
              "    <tr>\n",
              "      <th>25%</th>\n",
              "      <td>6.000000</td>\n",
              "      <td>1.000000</td>\n",
              "      <td>1.279954</td>\n",
              "      <td>3.000000</td>\n",
              "      <td>2010.000000</td>\n",
              "      <td>1.000000</td>\n",
              "      <td>9.000000</td>\n",
              "    </tr>\n",
              "    <tr>\n",
              "      <th>50%</th>\n",
              "      <td>8.500000</td>\n",
              "      <td>1.000000</td>\n",
              "      <td>2.181325</td>\n",
              "      <td>6.000000</td>\n",
              "      <td>2012.000000</td>\n",
              "      <td>3.000000</td>\n",
              "      <td>14.000000</td>\n",
              "    </tr>\n",
              "    <tr>\n",
              "      <th>75%</th>\n",
              "      <td>12.500000</td>\n",
              "      <td>2.000000</td>\n",
              "      <td>3.938054</td>\n",
              "      <td>9.000000</td>\n",
              "      <td>2013.000000</td>\n",
              "      <td>5.000000</td>\n",
              "      <td>19.000000</td>\n",
              "    </tr>\n",
              "    <tr>\n",
              "      <th>max</th>\n",
              "      <td>499.000000</td>\n",
              "      <td>5.000000</td>\n",
              "      <td>129.610094</td>\n",
              "      <td>12.000000</td>\n",
              "      <td>2015.000000</td>\n",
              "      <td>6.000000</td>\n",
              "      <td>23.000000</td>\n",
              "    </tr>\n",
              "  </tbody>\n",
              "</table>\n",
              "</div>\n",
              "      <button class=\"colab-df-convert\" onclick=\"convertToInteractive('df-68d6394c-8aeb-4d8b-ace8-791f09e3943a')\"\n",
              "              title=\"Convert this dataframe to an interactive table.\"\n",
              "              style=\"display:none;\">\n",
              "        \n",
              "  <svg xmlns=\"http://www.w3.org/2000/svg\" height=\"24px\"viewBox=\"0 0 24 24\"\n",
              "       width=\"24px\">\n",
              "    <path d=\"M0 0h24v24H0V0z\" fill=\"none\"/>\n",
              "    <path d=\"M18.56 5.44l.94 2.06.94-2.06 2.06-.94-2.06-.94-.94-2.06-.94 2.06-2.06.94zm-11 1L8.5 8.5l.94-2.06 2.06-.94-2.06-.94L8.5 2.5l-.94 2.06-2.06.94zm10 10l.94 2.06.94-2.06 2.06-.94-2.06-.94-.94-2.06-.94 2.06-2.06.94z\"/><path d=\"M17.41 7.96l-1.37-1.37c-.4-.4-.92-.59-1.43-.59-.52 0-1.04.2-1.43.59L10.3 9.45l-7.72 7.72c-.78.78-.78 2.05 0 2.83L4 21.41c.39.39.9.59 1.41.59.51 0 1.02-.2 1.41-.59l7.78-7.78 2.81-2.81c.8-.78.8-2.07 0-2.86zM5.41 20L4 18.59l7.72-7.72 1.47 1.35L5.41 20z\"/>\n",
              "  </svg>\n",
              "      </button>\n",
              "      \n",
              "  <style>\n",
              "    .colab-df-container {\n",
              "      display:flex;\n",
              "      flex-wrap:wrap;\n",
              "      gap: 12px;\n",
              "    }\n",
              "\n",
              "    .colab-df-convert {\n",
              "      background-color: #E8F0FE;\n",
              "      border: none;\n",
              "      border-radius: 50%;\n",
              "      cursor: pointer;\n",
              "      display: none;\n",
              "      fill: #1967D2;\n",
              "      height: 32px;\n",
              "      padding: 0 0 0 0;\n",
              "      width: 32px;\n",
              "    }\n",
              "\n",
              "    .colab-df-convert:hover {\n",
              "      background-color: #E2EBFA;\n",
              "      box-shadow: 0px 1px 2px rgba(60, 64, 67, 0.3), 0px 1px 3px 1px rgba(60, 64, 67, 0.15);\n",
              "      fill: #174EA6;\n",
              "    }\n",
              "\n",
              "    [theme=dark] .colab-df-convert {\n",
              "      background-color: #3B4455;\n",
              "      fill: #D2E3FC;\n",
              "    }\n",
              "\n",
              "    [theme=dark] .colab-df-convert:hover {\n",
              "      background-color: #434B5C;\n",
              "      box-shadow: 0px 1px 3px 1px rgba(0, 0, 0, 0.15);\n",
              "      filter: drop-shadow(0px 1px 2px rgba(0, 0, 0, 0.3));\n",
              "      fill: #FFFFFF;\n",
              "    }\n",
              "  </style>\n",
              "\n",
              "      <script>\n",
              "        const buttonEl =\n",
              "          document.querySelector('#df-68d6394c-8aeb-4d8b-ace8-791f09e3943a button.colab-df-convert');\n",
              "        buttonEl.style.display =\n",
              "          google.colab.kernel.accessAllowed ? 'block' : 'none';\n",
              "\n",
              "        async function convertToInteractive(key) {\n",
              "          const element = document.querySelector('#df-68d6394c-8aeb-4d8b-ace8-791f09e3943a');\n",
              "          const dataTable =\n",
              "            await google.colab.kernel.invokeFunction('convertToInteractive',\n",
              "                                                     [key], {});\n",
              "          if (!dataTable) return;\n",
              "\n",
              "          const docLinkHtml = 'Like what you see? Visit the ' +\n",
              "            '<a target=\"_blank\" href=https://colab.research.google.com/notebooks/data_table.ipynb>data table notebook</a>'\n",
              "            + ' to learn more about interactive tables.';\n",
              "          element.innerHTML = '';\n",
              "          dataTable['output_type'] = 'display_data';\n",
              "          await google.colab.output.renderOutput(dataTable, element);\n",
              "          const docLink = document.createElement('div');\n",
              "          docLink.innerHTML = docLinkHtml;\n",
              "          element.appendChild(docLink);\n",
              "        }\n",
              "      </script>\n",
              "    </div>\n",
              "  </div>\n",
              "  "
            ]
          },
          "metadata": {},
          "execution_count": 26
        }
      ]
    },
    {
      "cell_type": "code",
      "source": [
        "# Dropping the columns 'pickup datetime' and 'pickup hour' as we have extracted relvant pieces of information\n",
        "# from these columns and do not need these columns for our analysis now. Also, 'date' and 'day_name', month and yuear\n",
        "# as well as pickup and dropoff coordinates are not required as we have the required data extracted from them\n",
        "\n",
        "data = data.drop(['pickup_datetime','pickup_time', 'date', 'pickup_longitude', 'pickup_latitude',\n",
        "                  'dropoff_longitude', 'dropoff_latitude', 'day_name'],axis=1)"
      ],
      "metadata": {
        "execution": {
          "iopub.status.busy": "2023-01-16T01:31:00.585617Z",
          "iopub.execute_input": "2023-01-16T01:31:00.586013Z",
          "iopub.status.idle": "2023-01-16T01:31:00.594489Z",
          "shell.execute_reply.started": "2023-01-16T01:31:00.58598Z",
          "shell.execute_reply": "2023-01-16T01:31:00.593319Z"
        },
        "trusted": true,
        "id": "HcnvNOCCj3VP",
        "colab": {
          "base_uri": "https://localhost:8080/",
          "height": 398
        },
        "outputId": "9ef62982-6100-4c97-fd3c-d6340b1e015a"
      },
      "execution_count": 27,
      "outputs": [
        {
          "output_type": "error",
          "ename": "KeyError",
          "evalue": "ignored",
          "traceback": [
            "\u001b[0;31m---------------------------------------------------------------------------\u001b[0m",
            "\u001b[0;31mKeyError\u001b[0m                                  Traceback (most recent call last)",
            "\u001b[0;32m<ipython-input-27-e29241e80d7f>\u001b[0m in \u001b[0;36m<module>\u001b[0;34m\u001b[0m\n\u001b[1;32m      3\u001b[0m \u001b[0;31m# as well as pickup and dropoff coordinates are not required as we have the required data extracted from them\u001b[0m\u001b[0;34m\u001b[0m\u001b[0;34m\u001b[0m\u001b[0m\n\u001b[1;32m      4\u001b[0m \u001b[0;34m\u001b[0m\u001b[0m\n\u001b[0;32m----> 5\u001b[0;31m data = data.drop(['pickup_datetime','pickup_time', 'date', 'pickup_longitude', 'pickup_latitude',\n\u001b[0m\u001b[1;32m      6\u001b[0m                   'dropoff_longitude', 'dropoff_latitude', 'day_name'],axis=1)\n",
            "\u001b[0;32m/usr/local/lib/python3.9/dist-packages/pandas/util/_decorators.py\u001b[0m in \u001b[0;36mwrapper\u001b[0;34m(*args, **kwargs)\u001b[0m\n\u001b[1;32m    309\u001b[0m                     \u001b[0mstacklevel\u001b[0m\u001b[0;34m=\u001b[0m\u001b[0mstacklevel\u001b[0m\u001b[0;34m,\u001b[0m\u001b[0;34m\u001b[0m\u001b[0;34m\u001b[0m\u001b[0m\n\u001b[1;32m    310\u001b[0m                 )\n\u001b[0;32m--> 311\u001b[0;31m             \u001b[0;32mreturn\u001b[0m \u001b[0mfunc\u001b[0m\u001b[0;34m(\u001b[0m\u001b[0;34m*\u001b[0m\u001b[0margs\u001b[0m\u001b[0;34m,\u001b[0m \u001b[0;34m**\u001b[0m\u001b[0mkwargs\u001b[0m\u001b[0;34m)\u001b[0m\u001b[0;34m\u001b[0m\u001b[0;34m\u001b[0m\u001b[0m\n\u001b[0m\u001b[1;32m    312\u001b[0m \u001b[0;34m\u001b[0m\u001b[0m\n\u001b[1;32m    313\u001b[0m         \u001b[0;32mreturn\u001b[0m \u001b[0mwrapper\u001b[0m\u001b[0;34m\u001b[0m\u001b[0;34m\u001b[0m\u001b[0m\n",
            "\u001b[0;32m/usr/local/lib/python3.9/dist-packages/pandas/core/frame.py\u001b[0m in \u001b[0;36mdrop\u001b[0;34m(self, labels, axis, index, columns, level, inplace, errors)\u001b[0m\n\u001b[1;32m   4955\u001b[0m                 \u001b[0mweight\u001b[0m  \u001b[0;36m1.0\u001b[0m     \u001b[0;36m0.8\u001b[0m\u001b[0;34m\u001b[0m\u001b[0;34m\u001b[0m\u001b[0m\n\u001b[1;32m   4956\u001b[0m         \"\"\"\n\u001b[0;32m-> 4957\u001b[0;31m         return super().drop(\n\u001b[0m\u001b[1;32m   4958\u001b[0m             \u001b[0mlabels\u001b[0m\u001b[0;34m=\u001b[0m\u001b[0mlabels\u001b[0m\u001b[0;34m,\u001b[0m\u001b[0;34m\u001b[0m\u001b[0;34m\u001b[0m\u001b[0m\n\u001b[1;32m   4959\u001b[0m             \u001b[0maxis\u001b[0m\u001b[0;34m=\u001b[0m\u001b[0maxis\u001b[0m\u001b[0;34m,\u001b[0m\u001b[0;34m\u001b[0m\u001b[0;34m\u001b[0m\u001b[0m\n",
            "\u001b[0;32m/usr/local/lib/python3.9/dist-packages/pandas/core/generic.py\u001b[0m in \u001b[0;36mdrop\u001b[0;34m(self, labels, axis, index, columns, level, inplace, errors)\u001b[0m\n\u001b[1;32m   4265\u001b[0m         \u001b[0;32mfor\u001b[0m \u001b[0maxis\u001b[0m\u001b[0;34m,\u001b[0m \u001b[0mlabels\u001b[0m \u001b[0;32min\u001b[0m \u001b[0maxes\u001b[0m\u001b[0;34m.\u001b[0m\u001b[0mitems\u001b[0m\u001b[0;34m(\u001b[0m\u001b[0;34m)\u001b[0m\u001b[0;34m:\u001b[0m\u001b[0;34m\u001b[0m\u001b[0;34m\u001b[0m\u001b[0m\n\u001b[1;32m   4266\u001b[0m             \u001b[0;32mif\u001b[0m \u001b[0mlabels\u001b[0m \u001b[0;32mis\u001b[0m \u001b[0;32mnot\u001b[0m \u001b[0;32mNone\u001b[0m\u001b[0;34m:\u001b[0m\u001b[0;34m\u001b[0m\u001b[0;34m\u001b[0m\u001b[0m\n\u001b[0;32m-> 4267\u001b[0;31m                 \u001b[0mobj\u001b[0m \u001b[0;34m=\u001b[0m \u001b[0mobj\u001b[0m\u001b[0;34m.\u001b[0m\u001b[0m_drop_axis\u001b[0m\u001b[0;34m(\u001b[0m\u001b[0mlabels\u001b[0m\u001b[0;34m,\u001b[0m \u001b[0maxis\u001b[0m\u001b[0;34m,\u001b[0m \u001b[0mlevel\u001b[0m\u001b[0;34m=\u001b[0m\u001b[0mlevel\u001b[0m\u001b[0;34m,\u001b[0m \u001b[0merrors\u001b[0m\u001b[0;34m=\u001b[0m\u001b[0merrors\u001b[0m\u001b[0;34m)\u001b[0m\u001b[0;34m\u001b[0m\u001b[0;34m\u001b[0m\u001b[0m\n\u001b[0m\u001b[1;32m   4268\u001b[0m \u001b[0;34m\u001b[0m\u001b[0m\n\u001b[1;32m   4269\u001b[0m         \u001b[0;32mif\u001b[0m \u001b[0minplace\u001b[0m\u001b[0;34m:\u001b[0m\u001b[0;34m\u001b[0m\u001b[0;34m\u001b[0m\u001b[0m\n",
            "\u001b[0;32m/usr/local/lib/python3.9/dist-packages/pandas/core/generic.py\u001b[0m in \u001b[0;36m_drop_axis\u001b[0;34m(self, labels, axis, level, errors, consolidate, only_slice)\u001b[0m\n\u001b[1;32m   4309\u001b[0m                 \u001b[0mnew_axis\u001b[0m \u001b[0;34m=\u001b[0m \u001b[0maxis\u001b[0m\u001b[0;34m.\u001b[0m\u001b[0mdrop\u001b[0m\u001b[0;34m(\u001b[0m\u001b[0mlabels\u001b[0m\u001b[0;34m,\u001b[0m \u001b[0mlevel\u001b[0m\u001b[0;34m=\u001b[0m\u001b[0mlevel\u001b[0m\u001b[0;34m,\u001b[0m \u001b[0merrors\u001b[0m\u001b[0;34m=\u001b[0m\u001b[0merrors\u001b[0m\u001b[0;34m)\u001b[0m\u001b[0;34m\u001b[0m\u001b[0;34m\u001b[0m\u001b[0m\n\u001b[1;32m   4310\u001b[0m             \u001b[0;32melse\u001b[0m\u001b[0;34m:\u001b[0m\u001b[0;34m\u001b[0m\u001b[0;34m\u001b[0m\u001b[0m\n\u001b[0;32m-> 4311\u001b[0;31m                 \u001b[0mnew_axis\u001b[0m \u001b[0;34m=\u001b[0m \u001b[0maxis\u001b[0m\u001b[0;34m.\u001b[0m\u001b[0mdrop\u001b[0m\u001b[0;34m(\u001b[0m\u001b[0mlabels\u001b[0m\u001b[0;34m,\u001b[0m \u001b[0merrors\u001b[0m\u001b[0;34m=\u001b[0m\u001b[0merrors\u001b[0m\u001b[0;34m)\u001b[0m\u001b[0;34m\u001b[0m\u001b[0;34m\u001b[0m\u001b[0m\n\u001b[0m\u001b[1;32m   4312\u001b[0m             \u001b[0mindexer\u001b[0m \u001b[0;34m=\u001b[0m \u001b[0maxis\u001b[0m\u001b[0;34m.\u001b[0m\u001b[0mget_indexer\u001b[0m\u001b[0;34m(\u001b[0m\u001b[0mnew_axis\u001b[0m\u001b[0;34m)\u001b[0m\u001b[0;34m\u001b[0m\u001b[0;34m\u001b[0m\u001b[0m\n\u001b[1;32m   4313\u001b[0m \u001b[0;34m\u001b[0m\u001b[0m\n",
            "\u001b[0;32m/usr/local/lib/python3.9/dist-packages/pandas/core/indexes/base.py\u001b[0m in \u001b[0;36mdrop\u001b[0;34m(self, labels, errors)\u001b[0m\n\u001b[1;32m   6659\u001b[0m         \u001b[0;32mif\u001b[0m \u001b[0mmask\u001b[0m\u001b[0;34m.\u001b[0m\u001b[0many\u001b[0m\u001b[0;34m(\u001b[0m\u001b[0;34m)\u001b[0m\u001b[0;34m:\u001b[0m\u001b[0;34m\u001b[0m\u001b[0;34m\u001b[0m\u001b[0m\n\u001b[1;32m   6660\u001b[0m             \u001b[0;32mif\u001b[0m \u001b[0merrors\u001b[0m \u001b[0;34m!=\u001b[0m \u001b[0;34m\"ignore\"\u001b[0m\u001b[0;34m:\u001b[0m\u001b[0;34m\u001b[0m\u001b[0;34m\u001b[0m\u001b[0m\n\u001b[0;32m-> 6661\u001b[0;31m                 \u001b[0;32mraise\u001b[0m \u001b[0mKeyError\u001b[0m\u001b[0;34m(\u001b[0m\u001b[0;34mf\"{list(labels[mask])} not found in axis\"\u001b[0m\u001b[0;34m)\u001b[0m\u001b[0;34m\u001b[0m\u001b[0;34m\u001b[0m\u001b[0m\n\u001b[0m\u001b[1;32m   6662\u001b[0m             \u001b[0mindexer\u001b[0m \u001b[0;34m=\u001b[0m \u001b[0mindexer\u001b[0m\u001b[0;34m[\u001b[0m\u001b[0;34m~\u001b[0m\u001b[0mmask\u001b[0m\u001b[0;34m]\u001b[0m\u001b[0;34m\u001b[0m\u001b[0;34m\u001b[0m\u001b[0m\n\u001b[1;32m   6663\u001b[0m         \u001b[0;32mreturn\u001b[0m \u001b[0mself\u001b[0m\u001b[0;34m.\u001b[0m\u001b[0mdelete\u001b[0m\u001b[0;34m(\u001b[0m\u001b[0mindexer\u001b[0m\u001b[0;34m)\u001b[0m\u001b[0;34m\u001b[0m\u001b[0;34m\u001b[0m\u001b[0m\n",
            "\u001b[0;31mKeyError\u001b[0m: \"['pickup_datetime', 'pickup_time', 'date', 'pickup_longitude', 'pickup_latitude', 'dropoff_longitude', 'dropoff_latitude', 'day_name'] not found in axis\""
          ]
        }
      ]
    },
    {
      "cell_type": "code",
      "source": [
        "data.info()"
      ],
      "metadata": {
        "execution": {
          "iopub.status.busy": "2023-01-16T01:31:00.596005Z",
          "iopub.execute_input": "2023-01-16T01:31:00.596476Z",
          "iopub.status.idle": "2023-01-16T01:31:00.620379Z",
          "shell.execute_reply.started": "2023-01-16T01:31:00.596443Z",
          "shell.execute_reply": "2023-01-16T01:31:00.619161Z"
        },
        "trusted": true,
        "id": "EmgBPNj9j3VP",
        "colab": {
          "base_uri": "https://localhost:8080/"
        },
        "outputId": "7a28c0a9-1971-4f14-d5ed-3c6f499f48d8"
      },
      "execution_count": 28,
      "outputs": [
        {
          "output_type": "stream",
          "name": "stdout",
          "text": [
            "<class 'pandas.core.frame.DataFrame'>\n",
            "Int64Index: 189061 entries, 0 to 199999\n",
            "Data columns (total 7 columns):\n",
            " #   Column              Non-Null Count   Dtype  \n",
            "---  ------              --------------   -----  \n",
            " 0   fare_amount         189061 non-null  float64\n",
            " 1   passenger_count     189061 non-null  int64  \n",
            " 2   distance_travelled  189061 non-null  float64\n",
            " 3   month               189061 non-null  int64  \n",
            " 4   year                189061 non-null  int64  \n",
            " 5   day_of_the_week     189061 non-null  int64  \n",
            " 6   pickup_hour         189061 non-null  int64  \n",
            "dtypes: float64(2), int64(5)\n",
            "memory usage: 11.5 MB\n"
          ]
        }
      ]
    },
    {
      "cell_type": "markdown",
      "source": [
        "# Numerical Features - Univariate Analysis"
      ],
      "metadata": {
        "id": "33SRp68Sj3VP"
      }
    },
    {
      "cell_type": "markdown",
      "source": [
        "## Boxplot & Histogram"
      ],
      "metadata": {
        "id": "bdKdDu16j3VQ"
      }
    },
    {
      "cell_type": "markdown",
      "source": [
        "### Distance"
      ],
      "metadata": {
        "id": "kv7iyXsYj3VQ"
      }
    },
    {
      "cell_type": "code",
      "source": [
        "sns.boxplot(x=data['distance_travelled'])"
      ],
      "metadata": {
        "execution": {
          "iopub.status.busy": "2023-01-16T01:31:00.621794Z",
          "iopub.execute_input": "2023-01-16T01:31:00.622262Z",
          "iopub.status.idle": "2023-01-16T01:31:00.857618Z",
          "shell.execute_reply.started": "2023-01-16T01:31:00.622227Z",
          "shell.execute_reply": "2023-01-16T01:31:00.856359Z"
        },
        "trusted": true,
        "colab": {
          "base_uri": "https://localhost:8080/",
          "height": 297
        },
        "id": "wjpQJOetj3VQ",
        "outputId": "14c33f35-b532-4e74-9440-5bf2eed21106"
      },
      "execution_count": 29,
      "outputs": [
        {
          "output_type": "execute_result",
          "data": {
            "text/plain": [
              "<Axes: xlabel='distance_travelled'>"
            ]
          },
          "metadata": {},
          "execution_count": 29
        },
        {
          "output_type": "display_data",
          "data": {
            "text/plain": [
              "<Figure size 432x288 with 1 Axes>"
            ],
            "image/png": "[encoded data removed]"
          },
          "metadata": {
            "needs_background": "light"
          }
        }
      ]
    },
    {
      "cell_type": "code",
      "source": [
        "import matplotlib.pyplot as plt\n",
        "hist = plt.hist(x=data['distance_travelled'], density = True)\n",
        "# Draw a vertical line in the histogram to visualize mean value of the numerical feature (NaNs will be ignored when calculating the mean)\n",
        "plt.axvline(data['distance_travelled'].mean(), color = 'red', linestyle='--')\n",
        "# Draw another vertical line in the histogram to visualize median value of the numerical feature (NaNs will be ignored when calculating the median)\n",
        "plt.axvline(data['distance_travelled'].median(), color = 'black', linestyle='-')"
      ],
      "metadata": {
        "execution": {
          "iopub.status.busy": "2023-01-16T01:31:00.859322Z",
          "iopub.execute_input": "2023-01-16T01:31:00.859688Z",
          "iopub.status.idle": "2023-01-16T01:31:01.097626Z",
          "shell.execute_reply.started": "2023-01-16T01:31:00.859647Z",
          "shell.execute_reply": "2023-01-16T01:31:01.096461Z"
        },
        "trusted": true,
        "colab": {
          "base_uri": "https://localhost:8080/",
          "height": 282
        },
        "id": "-WDaFKoLj3VQ",
        "outputId": "5e358518-b899-4b3f-d0dc-68260987251b"
      },
      "execution_count": null,
      "outputs": [
        {
          "output_type": "execute_result",
          "data": {
            "text/plain": [
              "<matplotlib.lines.Line2D at 0x7f066ab87d90>"
            ]
          },
          "metadata": {},
          "execution_count": 28
        },
        {
          "output_type": "display_data",
          "data": {
            "text/plain": [
              "<Figure size 432x288 with 1 Axes>"
            ],
            "image/png": "[encoded data removed]"
          },
          "metadata": {
            "needs_background": "light"
          }
        }
      ]
    },
    {
      "cell_type": "markdown",
      "source": [
        "Observations:\n",
        "- Negatively Skewed\n",
        "- Outliers on the left end\n",
        "- Mean and Median are close"
      ],
      "metadata": {
        "id": "xkXqq8jAj3VQ"
      }
    },
    {
      "cell_type": "markdown",
      "source": [
        "# Categorical Features - Univariate Analysis"
      ],
      "metadata": {
        "id": "idLpr5rkj3VQ"
      }
    },
    {
      "cell_type": "markdown",
      "source": [
        "### Passenger Count"
      ],
      "metadata": {
        "id": "qu0qVe-uj3VQ"
      }
    },
    {
      "cell_type": "code",
      "source": [
        "data['passenger_count'].value_counts(normalize = True).plot.bar()\n",
        "plt.xticks(rotation = 0)"
      ],
      "metadata": {
        "scrolled": true,
        "execution": {
          "iopub.status.busy": "2023-01-16T01:31:01.098937Z",
          "iopub.execute_input": "2023-01-16T01:31:01.099337Z",
          "iopub.status.idle": "2023-01-16T01:31:01.312698Z",
          "shell.execute_reply.started": "2023-01-16T01:31:01.099301Z",
          "shell.execute_reply": "2023-01-16T01:31:01.311676Z"
        },
        "trusted": true,
        "colab": {
          "base_uri": "https://localhost:8080/",
          "height": 369
        },
        "id": "SyARTEb7j3VQ",
        "outputId": "17406fc3-7824-40b7-9643-5a19b486652c"
      },
      "execution_count": null,
      "outputs": [
        {
          "output_type": "execute_result",
          "data": {
            "text/plain": [
              "(array([0, 1, 2, 3, 4]),\n",
              " [Text(0, 0, '1'),\n",
              "  Text(1, 0, '2'),\n",
              "  Text(2, 0, '5'),\n",
              "  Text(3, 0, '3'),\n",
              "  Text(4, 0, '4')])"
            ]
          },
          "metadata": {},
          "execution_count": 29
        },
        {
          "output_type": "display_data",
          "data": {
            "text/plain": [
              "<Figure size 432x288 with 1 Axes>"
            ],
            "image/png": "[encoded data removed]"
          },
          "metadata": {
            "needs_background": "light"
          }
        }
      ]
    },
    {
      "cell_type": "markdown",
      "source": [
        "Observation:\n",
        "- Almost 70% of trips had only 1 passanger"
      ],
      "metadata": {
        "id": "Ar03bC0vj3VQ"
      }
    },
    {
      "cell_type": "markdown",
      "source": [
        "### Day of the week"
      ],
      "metadata": {
        "id": "36nTv6bdj3VQ"
      }
    },
    {
      "cell_type": "code",
      "source": [
        "data['day_of_the_week'].value_counts(normalize = True).plot.bar()\n",
        "#plt.xticks(rotation = 0)"
      ],
      "metadata": {
        "scrolled": true,
        "execution": {
          "iopub.status.busy": "2023-01-16T01:31:01.313918Z",
          "iopub.execute_input": "2023-01-16T01:31:01.314294Z",
          "iopub.status.idle": "2023-01-16T01:31:01.537594Z",
          "shell.execute_reply.started": "2023-01-16T01:31:01.314258Z",
          "shell.execute_reply": "2023-01-16T01:31:01.536407Z"
        },
        "trusted": true,
        "id": "Ck1CHBYNj3VR",
        "colab": {
          "base_uri": "https://localhost:8080/",
          "height": 280
        },
        "outputId": "21352896-a7cb-49a8-e655-a359d052b5e0"
      },
      "execution_count": 30,
      "outputs": [
        {
          "output_type": "execute_result",
          "data": {
            "text/plain": [
              "<Axes: >"
            ]
          },
          "metadata": {},
          "execution_count": 30
        },
        {
          "output_type": "display_data",
          "data": {
            "text/plain": [
              "<Figure size 432x288 with 1 Axes>"
            ],
            "image/png": "[encoded data removed]"
          },
          "metadata": {
            "needs_background": "light"
          }
        }
      ]
    },
    {
      "cell_type": "markdown",
      "source": [
        "Observation:\n",
        "- As expected, Friday (weekend eve) and Saturday had the highest number of trips"
      ],
      "metadata": {
        "id": "UEiMOqZhj3VR"
      }
    },
    {
      "cell_type": "markdown",
      "source": [
        "### Pickup Time"
      ],
      "metadata": {
        "id": "nDL76Evuj3VR"
      }
    },
    {
      "cell_type": "code",
      "source": [
        "data['pickup_hour'].value_counts(normalize = True).plot.bar()\n",
        "plt.xticks(rotation = 0)"
      ],
      "metadata": {
        "scrolled": true,
        "execution": {
          "iopub.status.busy": "2023-01-16T01:31:01.539031Z",
          "iopub.execute_input": "2023-01-16T01:31:01.539425Z",
          "iopub.status.idle": "2023-01-16T01:31:01.860671Z",
          "shell.execute_reply.started": "2023-01-16T01:31:01.539391Z",
          "shell.execute_reply": "2023-01-16T01:31:01.859306Z"
        },
        "trusted": true,
        "id": "F0pUbWmaj3VR",
        "colab": {
          "base_uri": "https://localhost:8080/",
          "height": 716
        },
        "outputId": "63e69432-d765-46c8-a0bd-5188c18b7ea6"
      },
      "execution_count": 31,
      "outputs": [
        {
          "output_type": "execute_result",
          "data": {
            "text/plain": [
              "(array([ 0,  1,  2,  3,  4,  5,  6,  7,  8,  9, 10, 11, 12, 13, 14, 15, 16,\n",
              "        17, 18, 19, 20, 21, 22, 23]),\n",
              " [Text(0, 0, '19'),\n",
              "  Text(1, 0, '18'),\n",
              "  Text(2, 0, '20'),\n",
              "  Text(3, 0, '21'),\n",
              "  Text(4, 0, '22'),\n",
              "  Text(5, 0, '13'),\n",
              "  Text(6, 0, '12'),\n",
              "  Text(7, 0, '23'),\n",
              "  Text(8, 0, '14'),\n",
              "  Text(9, 0, '17'),\n",
              "  Text(10, 0, '15'),\n",
              "  Text(11, 0, '11'),\n",
              "  Text(12, 0, '9'),\n",
              "  Text(13, 0, '8'),\n",
              "  Text(14, 0, '10'),\n",
              "  Text(15, 0, '16'),\n",
              "  Text(16, 0, '0'),\n",
              "  Text(17, 0, '7'),\n",
              "  Text(18, 0, '1'),\n",
              "  Text(19, 0, '2'),\n",
              "  Text(20, 0, '6'),\n",
              "  Text(21, 0, '3'),\n",
              "  Text(22, 0, '4'),\n",
              "  Text(23, 0, '5')])"
            ]
          },
          "metadata": {},
          "execution_count": 31
        },
        {
          "output_type": "display_data",
          "data": {
            "text/plain": [
              "<Figure size 432x288 with 1 Axes>"
            ],
            "image/png": "[encoded data removed]"
          },
          "metadata": {
            "needs_background": "light"
          }
        }
      ]
    },
    {
      "cell_type": "markdown",
      "source": [
        "Observation:\n",
        "- As expected, the number of trips are low during 1am - 5am, and peak between 7pm - 9pm"
      ],
      "metadata": {
        "id": "GrpWidGUj3VR"
      }
    },
    {
      "cell_type": "markdown",
      "source": [
        "We can clearly see that during weekdays, peak hours are during the day while on weekends, peak hours are late in the night"
      ],
      "metadata": {
        "id": "RMtHMK2lj3VR"
      }
    },
    {
      "cell_type": "markdown",
      "source": [
        "# Bivariate / Multivariate Analysis"
      ],
      "metadata": {
        "id": "eXlXrmrVj3VR"
      }
    },
    {
      "cell_type": "code",
      "source": [
        "pip install geopandas\n"
      ],
      "metadata": {
        "execution": {
          "iopub.status.busy": "2023-01-16T01:31:02.664431Z",
          "iopub.execute_input": "2023-01-16T01:31:02.664805Z",
          "iopub.status.idle": "2023-01-16T01:31:03.266603Z",
          "shell.execute_reply.started": "2023-01-16T01:31:02.66477Z",
          "shell.execute_reply": "2023-01-16T01:31:03.265297Z"
        },
        "trusted": true,
        "id": "ld7REeRIj3VR",
        "colab": {
          "base_uri": "https://localhost:8080/"
        },
        "outputId": "0b4a3abf-a87f-42f7-ec58-8af0b0ec8815"
      },
      "execution_count": 34,
      "outputs": [
        {
          "output_type": "stream",
          "name": "stdout",
          "text": [
            "Looking in indexes: https://pypi.org/simple, https://us-python.pkg.dev/colab-wheels/public/simple/\n",
            "Collecting geopandas\n",
            "  Downloading geopandas-0.12.2-py3-none-any.whl (1.1 MB)\n",
            "\u001b[2K     \u001b[90m━━━━━━━━━━━━━━━━━━━━━━━━━━━━━━━━━━━━━━━━\u001b[0m \u001b[32m1.1/1.1 MB\u001b[0m \u001b[31m11.3 MB/s\u001b[0m eta \u001b[36m0:00:00\u001b[0m\n",
            "\u001b[?25hCollecting fiona>=1.8\n",
            "  Downloading Fiona-1.9.1-cp39-cp39-manylinux_2_17_x86_64.manylinux2014_x86_64.whl (16.0 MB)\n",
            "\u001b[2K     \u001b[90m━━━━━━━━━━━━━━━━━━━━━━━━━━━━━━━━━━━━━━━━\u001b[0m \u001b[32m16.0/16.0 MB\u001b[0m \u001b[31m17.8 MB/s\u001b[0m eta \u001b[36m0:00:00\u001b[0m\n",
            "\u001b[?25hCollecting pyproj>=2.6.1.post1\n",
            "  Downloading pyproj-3.4.1-cp39-cp39-manylinux_2_17_x86_64.manylinux2014_x86_64.whl (7.7 MB)\n",
            "\u001b[2K     \u001b[90m━━━━━━━━━━━━━━━━━━━━━━━━━━━━━━━━━━━━━━━━\u001b[0m \u001b[32m7.7/7.7 MB\u001b[0m \u001b[31m24.8 MB/s\u001b[0m eta \u001b[36m0:00:00\u001b[0m\n",
            "\u001b[?25hRequirement already satisfied: shapely>=1.7 in /usr/local/lib/python3.9/dist-packages (from geopandas) (2.0.1)\n",
            "Requirement already satisfied: packaging in /usr/local/lib/python3.9/dist-packages (from geopandas) (23.0)\n",
            "Requirement already satisfied: pandas>=1.0.0 in /usr/local/lib/python3.9/dist-packages (from geopandas) (1.4.4)\n",
            "Collecting cligj>=0.5\n",
            "  Downloading cligj-0.7.2-py3-none-any.whl (7.1 kB)\n",
            "Requirement already satisfied: setuptools in /usr/local/lib/python3.9/dist-packages (from fiona>=1.8->geopandas) (63.4.3)\n",
            "Requirement already satisfied: click~=8.0 in /usr/local/lib/python3.9/dist-packages (from fiona>=1.8->geopandas) (8.1.3)\n",
            "Collecting munch>=2.3.2\n",
            "  Downloading munch-2.5.0-py2.py3-none-any.whl (10 kB)\n",
            "Requirement already satisfied: attrs>=19.2.0 in /usr/local/lib/python3.9/dist-packages (from fiona>=1.8->geopandas) (22.2.0)\n",
            "Requirement already satisfied: certifi in /usr/local/lib/python3.9/dist-packages (from fiona>=1.8->geopandas) (2022.12.7)\n",
            "Collecting click-plugins>=1.0\n",
            "  Downloading click_plugins-1.1.1-py2.py3-none-any.whl (7.5 kB)\n",
            "Requirement already satisfied: python-dateutil>=2.8.1 in /usr/local/lib/python3.9/dist-packages (from pandas>=1.0.0->geopandas) (2.8.2)\n",
            "Requirement already satisfied: numpy>=1.18.5 in /usr/local/lib/python3.9/dist-packages (from pandas>=1.0.0->geopandas) (1.22.4)\n",
            "Requirement already satisfied: pytz>=2020.1 in /usr/local/lib/python3.9/dist-packages (from pandas>=1.0.0->geopandas) (2022.7.1)\n",
            "Requirement already satisfied: six in /usr/local/lib/python3.9/dist-packages (from munch>=2.3.2->fiona>=1.8->geopandas) (1.15.0)\n",
            "Installing collected packages: pyproj, munch, cligj, click-plugins, fiona, geopandas\n",
            "Successfully installed click-plugins-1.1.1 cligj-0.7.2 fiona-1.9.1 geopandas-0.12.2 munch-2.5.0 pyproj-3.4.1\n"
          ]
        }
      ]
    },
    {
      "cell_type": "code",
      "source": [
        "\n",
        "import geopandas as gpd\n"
      ],
      "metadata": {
        "id": "pcPlOBV409aA"
      },
      "execution_count": 35,
      "outputs": []
    },
    {
      "cell_type": "code",
      "source": [
        "#Scatte plot of distance vs fare amount\n",
        "plt.scatter(x = data.distance_travelled, y = data.fare_amount)\n",
        "\n",
        "# Show the plot\n",
        "plt.show()"
      ],
      "metadata": {
        "execution": {
          "iopub.status.busy": "2023-01-16T01:31:03.268029Z",
          "iopub.execute_input": "2023-01-16T01:31:03.268453Z",
          "iopub.status.idle": "2023-01-16T01:31:03.792582Z",
          "shell.execute_reply.started": "2023-01-16T01:31:03.268417Z",
          "shell.execute_reply": "2023-01-16T01:31:03.791289Z"
        },
        "trusted": true,
        "id": "Ph-9AQqkj3VR",
        "colab": {
          "base_uri": "https://localhost:8080/",
          "height": 265
        },
        "outputId": "91fb005a-57ad-4d7f-f1ce-57fd4f77b0df"
      },
      "execution_count": 36,
      "outputs": [
        {
          "output_type": "display_data",
          "data": {
            "text/plain": [
              "<Figure size 432x288 with 1 Axes>"
            ],
            "image/png": "[encoded data removed]"
          },
          "metadata": {
            "needs_background": "light"
          }
        }
      ]
    },
    {
      "cell_type": "markdown",
      "source": [
        "*Generally*, as distance increases, the fare amount also increases with a few sporadic inconsistencies"
      ],
      "metadata": {
        "id": "BTJaHX-dj3VR"
      }
    },
    {
      "cell_type": "code",
      "source": [
        "#Scatte plot of day of the week vs fare amount\n",
        "plt.scatter(x = data.day_of_the_week, y = data.fare_amount)\n",
        "\n",
        "# Show the plot\n",
        "plt.show()"
      ],
      "metadata": {
        "execution": {
          "iopub.status.busy": "2023-01-16T01:31:03.79613Z",
          "iopub.execute_input": "2023-01-16T01:31:03.796515Z",
          "iopub.status.idle": "2023-01-16T01:31:04.29906Z",
          "shell.execute_reply.started": "2023-01-16T01:31:03.796482Z",
          "shell.execute_reply": "2023-01-16T01:31:04.298177Z"
        },
        "trusted": true,
        "id": "DGux1k7Fj3VR",
        "colab": {
          "base_uri": "https://localhost:8080/",
          "height": 265
        },
        "outputId": "e2c1399f-a3f1-4ed2-c858-67fa6e36335e"
      },
      "execution_count": 37,
      "outputs": [
        {
          "output_type": "display_data",
          "data": {
            "text/plain": [
              "<Figure size 432x288 with 1 Axes>"
            ],
            "image/png": "[encoded data removed]"
          },
          "metadata": {
            "needs_background": "light"
          }
        }
      ]
    },
    {
      "cell_type": "markdown",
      "source": [
        "*Generally* speaking, weekend fares are higher than weekday fares. This could be due to distance travelled or due to peak hours"
      ],
      "metadata": {
        "id": "hw__NtQaj3VS"
      }
    },
    {
      "cell_type": "code",
      "source": [
        "#Scatte plot of day of the week vs distance to see if there is any relationship between them\n",
        "plt.scatter(x = data.day_of_the_week, y = data.distance_travelled)\n",
        "\n",
        "# Show the plot\n",
        "plt.show()"
      ],
      "metadata": {
        "execution": {
          "iopub.status.busy": "2023-01-16T01:31:04.300416Z",
          "iopub.execute_input": "2023-01-16T01:31:04.301368Z",
          "iopub.status.idle": "2023-01-16T01:31:04.811854Z",
          "shell.execute_reply.started": "2023-01-16T01:31:04.301321Z",
          "shell.execute_reply": "2023-01-16T01:31:04.810644Z"
        },
        "trusted": true,
        "id": "hsKhg5WUj3VS",
        "colab": {
          "base_uri": "https://localhost:8080/",
          "height": 265
        },
        "outputId": "af4466e8-8d36-45ea-d284-927a89d8da9f"
      },
      "execution_count": 38,
      "outputs": [
        {
          "output_type": "display_data",
          "data": {
            "text/plain": [
              "<Figure size 432x288 with 1 Axes>"
            ],
            "image/png": "[encoded data removed]"
          },
          "metadata": {
            "needs_background": "light"
          }
        }
      ]
    },
    {
      "cell_type": "markdown",
      "source": [
        "We see that there isn;t much of a relationship between distance travelled vs fay of the week - thus, it is appears that fare amount being higher on weekends has a high likelihood of being linked to peak hours / wait time due to higher traffic.\n",
        "\n",
        "Unfortunately, we do not have the dropoff time for each ride to be able to ascertain the time of each trip and demonstrate if we can see a relationship between fare and time travelled"
      ],
      "metadata": {
        "id": "BIZQRwi6j3VS"
      }
    },
    {
      "cell_type": "code",
      "source": [
        "#Scatte plot of pickup time vs fare amount\n",
        "plt.scatter(x = data.pickup_hour, y = data.fare_amount)\n",
        "\n",
        "# Show the plot\n",
        "plt.show()"
      ],
      "metadata": {
        "execution": {
          "iopub.status.busy": "2023-01-16T01:31:04.813755Z",
          "iopub.execute_input": "2023-01-16T01:31:04.814236Z",
          "iopub.status.idle": "2023-01-16T01:31:05.362761Z",
          "shell.execute_reply.started": "2023-01-16T01:31:04.81419Z",
          "shell.execute_reply": "2023-01-16T01:31:05.361642Z"
        },
        "trusted": true,
        "id": "sAgvUyrVj3VS",
        "colab": {
          "base_uri": "https://localhost:8080/",
          "height": 265
        },
        "outputId": "19d605f5-5c19-4ce9-b18f-6248b0b49d12"
      },
      "execution_count": 39,
      "outputs": [
        {
          "output_type": "display_data",
          "data": {
            "text/plain": [
              "<Figure size 432x288 with 1 Axes>"
            ],
            "image/png": "[encoded data removed]"
          },
          "metadata": {
            "needs_background": "light"
          }
        }
      ]
    },
    {
      "cell_type": "markdown",
      "source": [
        "We do see some pickup times having a greater % of higher fares as compared to others - however, it is difficult to draw a concluding relationship"
      ],
      "metadata": {
        "id": "medpXOb6j3VS"
      }
    },
    {
      "cell_type": "code",
      "source": [
        "#Scatte plot of pickup time vs distance\n",
        "plt.scatter(x = data.pickup_hour, y = data.distance_travelled)\n",
        "\n",
        "# Show the plot\n",
        "plt.show()"
      ],
      "metadata": {
        "execution": {
          "iopub.status.busy": "2023-01-16T01:31:05.364058Z",
          "iopub.execute_input": "2023-01-16T01:31:05.36444Z",
          "iopub.status.idle": "2023-01-16T01:31:05.906556Z",
          "shell.execute_reply.started": "2023-01-16T01:31:05.364396Z",
          "shell.execute_reply": "2023-01-16T01:31:05.905248Z"
        },
        "trusted": true,
        "id": "kSFjSQIVj3VS",
        "colab": {
          "base_uri": "https://localhost:8080/",
          "height": 265
        },
        "outputId": "732d5ce4-8484-44a9-fa3d-685e45786b3e"
      },
      "execution_count": 40,
      "outputs": [
        {
          "output_type": "display_data",
          "data": {
            "text/plain": [
              "<Figure size 432x288 with 1 Axes>"
            ],
            "image/png": "[encoded data removed]"
          },
          "metadata": {
            "needs_background": "light"
          }
        }
      ]
    },
    {
      "cell_type": "markdown",
      "source": [
        "Some pickup hours have a greater concentration of trips where a high distance was travelled as compared to others"
      ],
      "metadata": {
        "id": "dlG2r12Wj3VS"
      }
    },
    {
      "cell_type": "markdown",
      "source": [
        "### Data Preparatrion"
      ],
      "metadata": {
        "id": "9QqfRXmhj3VS"
      }
    },
    {
      "cell_type": "markdown",
      "source": [
        "### Feature Scaling"
      ],
      "metadata": {
        "id": "c5kr9_4Qj3VS"
      }
    },
    {
      "cell_type": "markdown",
      "source": [
        "Feature Scaling is required because of two reasons:\n",
        "1. The data points are far from each other. This means that in some columns, the distance between data points is a lot\n",
        "2. Some of the features have a unit while other features are unitless. Thereofre, it is important to make all features unitless"
      ],
      "metadata": {
        "id": "vqYS8RoFj3VT"
      }
    },
    {
      "cell_type": "code",
      "source": [
        "#Feature Scaling (Standardization)\n",
        "\n",
        "from sklearn.preprocessing import StandardScaler\n",
        "\n",
        "std = StandardScaler()"
      ],
      "metadata": {
        "execution": {
          "iopub.status.busy": "2023-01-16T01:31:05.961571Z",
          "iopub.execute_input": "2023-01-16T01:31:05.962045Z",
          "iopub.status.idle": "2023-01-16T01:31:05.96957Z",
          "shell.execute_reply.started": "2023-01-16T01:31:05.961999Z",
          "shell.execute_reply": "2023-01-16T01:31:05.968196Z"
        },
        "trusted": true,
        "id": "7v2_WAfxj3VT"
      },
      "execution_count": 41,
      "outputs": []
    },
    {
      "cell_type": "code",
      "source": [
        "x = data.drop(['fare_amount'], axis = 1)\n",
        "y = data['fare_amount'].values.reshape(-1, 1)"
      ],
      "metadata": {
        "execution": {
          "iopub.status.busy": "2023-01-16T01:31:05.97955Z",
          "iopub.execute_input": "2023-01-16T01:31:05.979938Z",
          "iopub.status.idle": "2023-01-16T01:31:05.988511Z",
          "shell.execute_reply.started": "2023-01-16T01:31:05.979906Z",
          "shell.execute_reply": "2023-01-16T01:31:05.986929Z"
        },
        "trusted": true,
        "id": "F34S7ZDnj3VT"
      },
      "execution_count": 42,
      "outputs": []
    },
    {
      "cell_type": "code",
      "source": [
        "y_std = std.fit_transform(y)\n",
        "\n",
        "x_std = std.fit_transform(x)"
      ],
      "metadata": {
        "execution": {
          "iopub.status.busy": "2023-01-16T01:31:05.989937Z",
          "iopub.execute_input": "2023-01-16T01:31:05.990309Z",
          "iopub.status.idle": "2023-01-16T01:31:06.031608Z",
          "shell.execute_reply.started": "2023-01-16T01:31:05.990274Z",
          "shell.execute_reply": "2023-01-16T01:31:06.030455Z"
        },
        "trusted": true,
        "id": "mAaxLFDfj3VT"
      },
      "execution_count": 43,
      "outputs": []
    },
    {
      "cell_type": "code",
      "source": [
        "x_train, x_test, y_train, y_test = train_test_split(x_std, y_std, test_size = 0.3, random_state = 42)"
      ],
      "metadata": {
        "execution": {
          "iopub.status.busy": "2023-01-16T01:31:06.032859Z",
          "iopub.execute_input": "2023-01-16T01:31:06.033231Z",
          "iopub.status.idle": "2023-01-16T01:31:06.065255Z",
          "shell.execute_reply.started": "2023-01-16T01:31:06.033187Z",
          "shell.execute_reply": "2023-01-16T01:31:06.064012Z"
        },
        "trusted": true,
        "id": "2vU4KYucj3VT"
      },
      "execution_count": 44,
      "outputs": []
    },
    {
      "cell_type": "code",
      "source": [
        "x_train.shape"
      ],
      "metadata": {
        "execution": {
          "iopub.status.busy": "2023-01-16T01:31:06.066608Z",
          "iopub.execute_input": "2023-01-16T01:31:06.066961Z",
          "iopub.status.idle": "2023-01-16T01:31:06.07371Z",
          "shell.execute_reply.started": "2023-01-16T01:31:06.066926Z",
          "shell.execute_reply": "2023-01-16T01:31:06.072804Z"
        },
        "trusted": true,
        "id": "8naNkKH5j3VT",
        "colab": {
          "base_uri": "https://localhost:8080/"
        },
        "outputId": "5f43ed9e-883e-41fc-8b84-ecbd6eff1304"
      },
      "execution_count": 45,
      "outputs": [
        {
          "output_type": "execute_result",
          "data": {
            "text/plain": [
              "(132342, 6)"
            ]
          },
          "metadata": {},
          "execution_count": 45
        }
      ]
    },
    {
      "cell_type": "code",
      "source": [
        "y_train.shape"
      ],
      "metadata": {
        "execution": {
          "iopub.status.busy": "2023-01-16T01:31:06.074837Z",
          "iopub.execute_input": "2023-01-16T01:31:06.075553Z",
          "iopub.status.idle": "2023-01-16T01:31:06.087782Z",
          "shell.execute_reply.started": "2023-01-16T01:31:06.075517Z",
          "shell.execute_reply": "2023-01-16T01:31:06.086475Z"
        },
        "trusted": true,
        "id": "XGkKhXcej3VT",
        "colab": {
          "base_uri": "https://localhost:8080/"
        },
        "outputId": "08d6bf92-182c-460a-eb11-dfec657e58f8"
      },
      "execution_count": 46,
      "outputs": [
        {
          "output_type": "execute_result",
          "data": {
            "text/plain": [
              "(132342, 1)"
            ]
          },
          "metadata": {},
          "execution_count": 46
        }
      ]
    },
    {
      "cell_type": "code",
      "source": [
        "x_test.shape"
      ],
      "metadata": {
        "execution": {
          "iopub.status.busy": "2023-01-16T01:31:06.089251Z",
          "iopub.execute_input": "2023-01-16T01:31:06.09022Z",
          "iopub.status.idle": "2023-01-16T01:31:06.101171Z",
          "shell.execute_reply.started": "2023-01-16T01:31:06.090095Z",
          "shell.execute_reply": "2023-01-16T01:31:06.099843Z"
        },
        "trusted": true,
        "id": "RiyEPgdnj3VT",
        "colab": {
          "base_uri": "https://localhost:8080/"
        },
        "outputId": "0f142b22-f6dc-49d2-fe0f-590654ed295c"
      },
      "execution_count": 47,
      "outputs": [
        {
          "output_type": "execute_result",
          "data": {
            "text/plain": [
              "(56719, 6)"
            ]
          },
          "metadata": {},
          "execution_count": 47
        }
      ]
    },
    {
      "cell_type": "code",
      "source": [
        "y_test.shape"
      ],
      "metadata": {
        "execution": {
          "iopub.status.busy": "2023-01-16T01:31:06.102822Z",
          "iopub.execute_input": "2023-01-16T01:31:06.103233Z",
          "iopub.status.idle": "2023-01-16T01:31:06.111938Z",
          "shell.execute_reply.started": "2023-01-16T01:31:06.103197Z",
          "shell.execute_reply": "2023-01-16T01:31:06.110961Z"
        },
        "trusted": true,
        "id": "H05AOs_8j3VU",
        "colab": {
          "base_uri": "https://localhost:8080/"
        },
        "outputId": "14a41543-90b0-4e42-9503-8fa84a2817c5"
      },
      "execution_count": 48,
      "outputs": [
        {
          "output_type": "execute_result",
          "data": {
            "text/plain": [
              "(56719, 1)"
            ]
          },
          "metadata": {},
          "execution_count": 48
        }
      ]
    },
    {
      "cell_type": "markdown",
      "source": [
        "# Regression Models"
      ],
      "metadata": {
        "id": "DP6tag1gj3VU"
      }
    },
    {
      "cell_type": "markdown",
      "source": [
        "## Linear Regression"
      ],
      "metadata": {
        "id": "qXG_BGZFj3VU"
      }
    },
    {
      "cell_type": "code",
      "source": [
        "from sklearn.linear_model import LinearRegression\n",
        "LR = LinearRegression()\n",
        "LR.fit(x_train,y_train)"
      ],
      "metadata": {
        "execution": {
          "iopub.status.busy": "2023-01-16T01:31:06.125317Z",
          "iopub.execute_input": "2023-01-16T01:31:06.125693Z",
          "iopub.status.idle": "2023-01-16T01:31:06.173762Z",
          "shell.execute_reply.started": "2023-01-16T01:31:06.125657Z",
          "shell.execute_reply": "2023-01-16T01:31:06.172425Z"
        },
        "trusted": true,
        "id": "28e0KsAfj3VU",
        "colab": {
          "base_uri": "https://localhost:8080/",
          "height": 74
        },
        "outputId": "a19555ac-8f7a-4d6b-b4d2-60ac366b88c5"
      },
      "execution_count": 49,
      "outputs": [
        {
          "output_type": "execute_result",
          "data": {
            "text/plain": [
              "LinearRegression()"
            ],
            "text/html": [
              "<style>#sk-container-id-1 {color: black;background-color: white;}#sk-container-id-1 pre{padding: 0;}#sk-container-id-1 div.sk-toggleable {background-color: white;}#sk-container-id-1 label.sk-toggleable__label {cursor: pointer;display: block;width: 100%;margin-bottom: 0;padding: 0.3em;box-sizing: border-box;text-align: center;}#sk-container-id-1 label.sk-toggleable__label-arrow:before {content: \"▸\";float: left;margin-right: 0.25em;color: #696969;}#sk-container-id-1 label.sk-toggleable__label-arrow:hover:before {color: black;}#sk-container-id-1 div.sk-estimator:hover label.sk-toggleable__label-arrow:before {color: black;}#sk-container-id-1 div.sk-toggleable__content {max-height: 0;max-width: 0;overflow: hidden;text-align: left;background-color: #f0f8ff;}#sk-container-id-1 div.sk-toggleable__content pre {margin: 0.2em;color: black;border-radius: 0.25em;background-color: #f0f8ff;}#sk-container-id-1 input.sk-toggleable__control:checked~div.sk-toggleable__content {max-height: 200px;max-width: 100%;overflow: auto;}#sk-container-id-1 input.sk-toggleable__control:checked~label.sk-toggleable__label-arrow:before {content: \"▾\";}#sk-container-id-1 div.sk-estimator input.sk-toggleable__control:checked~label.sk-toggleable__label {background-color: #d4ebff;}#sk-container-id-1 div.sk-label input.sk-toggleable__control:checked~label.sk-toggleable__label {background-color: #d4ebff;}#sk-container-id-1 input.sk-hidden--visually {border: 0;clip: rect(1px 1px 1px 1px);clip: rect(1px, 1px, 1px, 1px);height: 1px;margin: -1px;overflow: hidden;padding: 0;position: absolute;width: 1px;}#sk-container-id-1 div.sk-estimator {font-family: monospace;background-color: #f0f8ff;border: 1px dotted black;border-radius: 0.25em;box-sizing: border-box;margin-bottom: 0.5em;}#sk-container-id-1 div.sk-estimator:hover {background-color: #d4ebff;}#sk-container-id-1 div.sk-parallel-item::after {content: \"\";width: 100%;border-bottom: 1px solid gray;flex-grow: 1;}#sk-container-id-1 div.sk-label:hover label.sk-toggleable__label {background-color: #d4ebff;}#sk-container-id-1 div.sk-serial::before {content: \"\";position: absolute;border-left: 1px solid gray;box-sizing: border-box;top: 0;bottom: 0;left: 50%;z-index: 0;}#sk-container-id-1 div.sk-serial {display: flex;flex-direction: column;align-items: center;background-color: white;padding-right: 0.2em;padding-left: 0.2em;position: relative;}#sk-container-id-1 div.sk-item {position: relative;z-index: 1;}#sk-container-id-1 div.sk-parallel {display: flex;align-items: stretch;justify-content: center;background-color: white;position: relative;}#sk-container-id-1 div.sk-item::before, #sk-container-id-1 div.sk-parallel-item::before {content: \"\";position: absolute;border-left: 1px solid gray;box-sizing: border-box;top: 0;bottom: 0;left: 50%;z-index: -1;}#sk-container-id-1 div.sk-parallel-item {display: flex;flex-direction: column;z-index: 1;position: relative;background-color: white;}#sk-container-id-1 div.sk-parallel-item:first-child::after {align-self: flex-end;width: 50%;}#sk-container-id-1 div.sk-parallel-item:last-child::after {align-self: flex-start;width: 50%;}#sk-container-id-1 div.sk-parallel-item:only-child::after {width: 0;}#sk-container-id-1 div.sk-dashed-wrapped {border: 1px dashed gray;margin: 0 0.4em 0.5em 0.4em;box-sizing: border-box;padding-bottom: 0.4em;background-color: white;}#sk-container-id-1 div.sk-label label {font-family: monospace;font-weight: bold;display: inline-block;line-height: 1.2em;}#sk-container-id-1 div.sk-label-container {text-align: center;}#sk-container-id-1 div.sk-container {/* jupyter's `normalize.less` sets `[hidden] { display: none; }` but bootstrap.min.css set `[hidden] { display: none !important; }` so we also need the `!important` here to be able to override the default hidden behavior on the sphinx rendered scikit-learn.org. See: https://github.com/scikit-learn/scikit-learn/issues/21755 */display: inline-block !important;position: relative;}#sk-container-id-1 div.sk-text-repr-fallback {display: none;}</style><div id=\"sk-container-id-1\" class=\"sk-top-container\"><div class=\"sk-text-repr-fallback\"><pre>LinearRegression()</pre><b>In a Jupyter environment, please rerun this cell to show the HTML representation or trust the notebook. <br />On GitHub, the HTML representation is unable to render, please try loading this page with nbviewer.org.</b></div><div class=\"sk-container\" hidden><div class=\"sk-item\"><div class=\"sk-estimator sk-toggleable\"><input class=\"sk-toggleable__control sk-hidden--visually\" id=\"sk-estimator-id-1\" type=\"checkbox\" checked><label for=\"sk-estimator-id-1\" class=\"sk-toggleable__label sk-toggleable__label-arrow\">LinearRegression</label><div class=\"sk-toggleable__content\"><pre>LinearRegression()</pre></div></div></div></div></div>"
            ]
          },
          "metadata": {},
          "execution_count": 49
        }
      ]
    },
    {
      "cell_type": "code",
      "source": [
        "LR_pred = LR.predict(x_test)"
      ],
      "metadata": {
        "execution": {
          "iopub.status.busy": "2023-01-16T01:31:06.175488Z",
          "iopub.execute_input": "2023-01-16T01:31:06.176602Z",
          "iopub.status.idle": "2023-01-16T01:31:06.18495Z",
          "shell.execute_reply.started": "2023-01-16T01:31:06.176549Z",
          "shell.execute_reply": "2023-01-16T01:31:06.183665Z"
        },
        "trusted": true,
        "id": "Yw8E2nlGj3VU"
      },
      "execution_count": 50,
      "outputs": []
    },
    {
      "cell_type": "code",
      "source": [
        "print(\"Training set score: {:.2f}\".format(LR.score(x_train, y_train)))\n",
        "print(\"Test set score: {:.7f}\".format(LR.score(x_test, y_test)))"
      ],
      "metadata": {
        "execution": {
          "iopub.status.busy": "2023-01-16T01:31:06.186577Z",
          "iopub.execute_input": "2023-01-16T01:31:06.18738Z",
          "iopub.status.idle": "2023-01-16T01:31:06.213902Z",
          "shell.execute_reply.started": "2023-01-16T01:31:06.18733Z",
          "shell.execute_reply": "2023-01-16T01:31:06.212229Z"
        },
        "trusted": true,
        "id": "VnVluvxuj3VU",
        "colab": {
          "base_uri": "https://localhost:8080/"
        },
        "outputId": "1dd24742-6a12-4bb8-db87-41402ceca9f2"
      },
      "execution_count": 51,
      "outputs": [
        {
          "output_type": "stream",
          "name": "stdout",
          "text": [
            "Training set score: 0.65\n",
            "Test set score: 0.5782372\n"
          ]
        }
      ]
    },
    {
      "cell_type": "code",
      "source": [
        "from sklearn import metrics\n",
        "from sklearn.metrics import r2_score\n",
        "\n",
        "MAE_LR= metrics.mean_absolute_error(y_test, LR_pred)\n",
        "MSE_LR= metrics.mean_squared_error(y_test, LR_pred)\n",
        "RMSE_LR= np.sqrt(metrics.mean_squared_error(y_test, LR_pred))\n",
        "r2_LR=r2_score(y_test, LR_pred)\n",
        "Adj_r2_LR=1-(1-r2_score(y_test, LR_pred))*((len(x_test)-1)/(len(x_test)-len(x_test[0])-1))"
      ],
      "metadata": {
        "execution": {
          "iopub.status.busy": "2023-01-16T01:31:06.217195Z",
          "iopub.execute_input": "2023-01-16T01:31:06.219398Z",
          "iopub.status.idle": "2023-01-16T01:31:06.246693Z",
          "shell.execute_reply.started": "2023-01-16T01:31:06.219334Z",
          "shell.execute_reply": "2023-01-16T01:31:06.244857Z"
        },
        "trusted": true,
        "id": "SSEygvCPj3VU"
      },
      "execution_count": 52,
      "outputs": []
    },
    {
      "cell_type": "code",
      "source": [
        "print('Mean absolute error of linear regression',MAE_LR)\n",
        "print('Mean square  error of linear regression',MSE_LR)\n",
        "print('root Mean square error of linear regression',RMSE_LR)\n",
        "print('r2 score of linear regression',r2_LR)\n",
        "print('adjusted r2 of linear regression',Adj_r2_LR)"
      ],
      "metadata": {
        "execution": {
          "iopub.status.busy": "2023-01-16T01:31:06.250017Z",
          "iopub.execute_input": "2023-01-16T01:31:06.252288Z",
          "iopub.status.idle": "2023-01-16T01:31:06.265443Z",
          "shell.execute_reply.started": "2023-01-16T01:31:06.252224Z",
          "shell.execute_reply": "2023-01-16T01:31:06.263967Z"
        },
        "trusted": true,
        "id": "C--RvkYHj3VV",
        "colab": {
          "base_uri": "https://localhost:8080/"
        },
        "outputId": "6c4b8965-372a-4bbc-80e1-32aca39efaab"
      },
      "execution_count": 53,
      "outputs": [
        {
          "output_type": "stream",
          "name": "stdout",
          "text": [
            "Mean absolute error of linear regression 0.2573904473859176\n",
            "Mean square  error of linear regression 0.4147342387915015\n",
            "root Mean square error of linear regression 0.6439986326006457\n",
            "r2 score of linear regression 0.5782372370795461\n",
            "adjusted r2 of linear regression 0.5781926155430543\n"
          ]
        }
      ]
    },
    {
      "cell_type": "markdown",
      "source": [
        "### Decision Tree Regressor"
      ],
      "metadata": {
        "id": "Qy6_Yq5wj3VV"
      }
    },
    {
      "cell_type": "code",
      "source": [
        "from sklearn.tree import DecisionTreeRegressor\n",
        "\n",
        "DT = DecisionTreeRegressor()\n",
        "DT.fit(x_train, y_train)"
      ],
      "metadata": {
        "execution": {
          "iopub.status.busy": "2023-01-16T01:31:06.267663Z",
          "iopub.execute_input": "2023-01-16T01:31:06.268591Z",
          "iopub.status.idle": "2023-01-16T01:31:07.102487Z",
          "shell.execute_reply.started": "2023-01-16T01:31:06.268535Z",
          "shell.execute_reply": "2023-01-16T01:31:07.101339Z"
        },
        "trusted": true,
        "id": "5qvPgdfqj3VV",
        "colab": {
          "base_uri": "https://localhost:8080/",
          "height": 74
        },
        "outputId": "ab3106c4-c024-4466-e058-ba883a94adbe"
      },
      "execution_count": 54,
      "outputs": [
        {
          "output_type": "execute_result",
          "data": {
            "text/plain": [
              "DecisionTreeRegressor()"
            ],
            "text/html": [
              "<style>#sk-container-id-2 {color: black;background-color: white;}#sk-container-id-2 pre{padding: 0;}#sk-container-id-2 div.sk-toggleable {background-color: white;}#sk-container-id-2 label.sk-toggleable__label {cursor: pointer;display: block;width: 100%;margin-bottom: 0;padding: 0.3em;box-sizing: border-box;text-align: center;}#sk-container-id-2 label.sk-toggleable__label-arrow:before {content: \"▸\";float: left;margin-right: 0.25em;color: #696969;}#sk-container-id-2 label.sk-toggleable__label-arrow:hover:before {color: black;}#sk-container-id-2 div.sk-estimator:hover label.sk-toggleable__label-arrow:before {color: black;}#sk-container-id-2 div.sk-toggleable__content {max-height: 0;max-width: 0;overflow: hidden;text-align: left;background-color: #f0f8ff;}#sk-container-id-2 div.sk-toggleable__content pre {margin: 0.2em;color: black;border-radius: 0.25em;background-color: #f0f8ff;}#sk-container-id-2 input.sk-toggleable__control:checked~div.sk-toggleable__content {max-height: 200px;max-width: 100%;overflow: auto;}#sk-container-id-2 input.sk-toggleable__control:checked~label.sk-toggleable__label-arrow:before {content: \"▾\";}#sk-container-id-2 div.sk-estimator input.sk-toggleable__control:checked~label.sk-toggleable__label {background-color: #d4ebff;}#sk-container-id-2 div.sk-label input.sk-toggleable__control:checked~label.sk-toggleable__label {background-color: #d4ebff;}#sk-container-id-2 input.sk-hidden--visually {border: 0;clip: rect(1px 1px 1px 1px);clip: rect(1px, 1px, 1px, 1px);height: 1px;margin: -1px;overflow: hidden;padding: 0;position: absolute;width: 1px;}#sk-container-id-2 div.sk-estimator {font-family: monospace;background-color: #f0f8ff;border: 1px dotted black;border-radius: 0.25em;box-sizing: border-box;margin-bottom: 0.5em;}#sk-container-id-2 div.sk-estimator:hover {background-color: #d4ebff;}#sk-container-id-2 div.sk-parallel-item::after {content: \"\";width: 100%;border-bottom: 1px solid gray;flex-grow: 1;}#sk-container-id-2 div.sk-label:hover label.sk-toggleable__label {background-color: #d4ebff;}#sk-container-id-2 div.sk-serial::before {content: \"\";position: absolute;border-left: 1px solid gray;box-sizing: border-box;top: 0;bottom: 0;left: 50%;z-index: 0;}#sk-container-id-2 div.sk-serial {display: flex;flex-direction: column;align-items: center;background-color: white;padding-right: 0.2em;padding-left: 0.2em;position: relative;}#sk-container-id-2 div.sk-item {position: relative;z-index: 1;}#sk-container-id-2 div.sk-parallel {display: flex;align-items: stretch;justify-content: center;background-color: white;position: relative;}#sk-container-id-2 div.sk-item::before, #sk-container-id-2 div.sk-parallel-item::before {content: \"\";position: absolute;border-left: 1px solid gray;box-sizing: border-box;top: 0;bottom: 0;left: 50%;z-index: -1;}#sk-container-id-2 div.sk-parallel-item {display: flex;flex-direction: column;z-index: 1;position: relative;background-color: white;}#sk-container-id-2 div.sk-parallel-item:first-child::after {align-self: flex-end;width: 50%;}#sk-container-id-2 div.sk-parallel-item:last-child::after {align-self: flex-start;width: 50%;}#sk-container-id-2 div.sk-parallel-item:only-child::after {width: 0;}#sk-container-id-2 div.sk-dashed-wrapped {border: 1px dashed gray;margin: 0 0.4em 0.5em 0.4em;box-sizing: border-box;padding-bottom: 0.4em;background-color: white;}#sk-container-id-2 div.sk-label label {font-family: monospace;font-weight: bold;display: inline-block;line-height: 1.2em;}#sk-container-id-2 div.sk-label-container {text-align: center;}#sk-container-id-2 div.sk-container {/* jupyter's `normalize.less` sets `[hidden] { display: none; }` but bootstrap.min.css set `[hidden] { display: none !important; }` so we also need the `!important` here to be able to override the default hidden behavior on the sphinx rendered scikit-learn.org. See: https://github.com/scikit-learn/scikit-learn/issues/21755 */display: inline-block !important;position: relative;}#sk-container-id-2 div.sk-text-repr-fallback {display: none;}</style><div id=\"sk-container-id-2\" class=\"sk-top-container\"><div class=\"sk-text-repr-fallback\"><pre>DecisionTreeRegressor()</pre><b>In a Jupyter environment, please rerun this cell to show the HTML representation or trust the notebook. <br />On GitHub, the HTML representation is unable to render, please try loading this page with nbviewer.org.</b></div><div class=\"sk-container\" hidden><div class=\"sk-item\"><div class=\"sk-estimator sk-toggleable\"><input class=\"sk-toggleable__control sk-hidden--visually\" id=\"sk-estimator-id-2\" type=\"checkbox\" checked><label for=\"sk-estimator-id-2\" class=\"sk-toggleable__label sk-toggleable__label-arrow\">DecisionTreeRegressor</label><div class=\"sk-toggleable__content\"><pre>DecisionTreeRegressor()</pre></div></div></div></div></div>"
            ]
          },
          "metadata": {},
          "execution_count": 54
        }
      ]
    },
    {
      "cell_type": "code",
      "source": [
        "DTpreds = DT.predict(x_test)"
      ],
      "metadata": {
        "execution": {
          "iopub.status.busy": "2023-01-16T01:31:07.103705Z",
          "iopub.execute_input": "2023-01-16T01:31:07.104155Z",
          "iopub.status.idle": "2023-01-16T01:31:07.143192Z",
          "shell.execute_reply.started": "2023-01-16T01:31:07.104092Z",
          "shell.execute_reply": "2023-01-16T01:31:07.14186Z"
        },
        "trusted": true,
        "id": "96iExhY-j3VV"
      },
      "execution_count": 55,
      "outputs": []
    },
    {
      "cell_type": "code",
      "source": [
        "print(\"Training set score: {:.2f}\".format(DT.score(x_train, y_train)))\n",
        "print(\"Test set score: {:.7f}\".format(DT.score(x_test, y_test)))"
      ],
      "metadata": {
        "execution": {
          "iopub.status.busy": "2023-01-16T01:31:07.144692Z",
          "iopub.execute_input": "2023-01-16T01:31:07.145474Z",
          "iopub.status.idle": "2023-01-16T01:31:07.269153Z",
          "shell.execute_reply.started": "2023-01-16T01:31:07.145433Z",
          "shell.execute_reply": "2023-01-16T01:31:07.267866Z"
        },
        "trusted": true,
        "id": "HDW871VJj3VV",
        "colab": {
          "base_uri": "https://localhost:8080/"
        },
        "outputId": "d60d0def-00c3-422d-d6f9-b08dcb403b74"
      },
      "execution_count": 56,
      "outputs": [
        {
          "output_type": "stream",
          "name": "stdout",
          "text": [
            "Training set score: 1.00\n",
            "Test set score: 0.5500694\n"
          ]
        }
      ]
    },
    {
      "cell_type": "code",
      "source": [
        "MAE_DT= metrics.mean_absolute_error(y_test, DTpreds)\n",
        "MSE_DT= metrics.mean_squared_error(y_test, DTpreds)\n",
        "RMSE_DT= np.sqrt(metrics.mean_squared_error(y_test, DTpreds))\n",
        "r2_DT=r2_score(y_test, DTpreds)\n",
        "Adj_r2_DT=1-(1-r2_score(y_test, DTpreds))*((len(x_test)-1)/(len(x_test)-len(x_test[0])-1))"
      ],
      "metadata": {
        "execution": {
          "iopub.status.busy": "2023-01-16T01:31:07.270734Z",
          "iopub.execute_input": "2023-01-16T01:31:07.27157Z",
          "iopub.status.idle": "2023-01-16T01:31:07.282877Z",
          "shell.execute_reply.started": "2023-01-16T01:31:07.271522Z",
          "shell.execute_reply": "2023-01-16T01:31:07.281657Z"
        },
        "trusted": true,
        "id": "RBPfI9Arj3VV"
      },
      "execution_count": 57,
      "outputs": []
    },
    {
      "cell_type": "code",
      "source": [
        "print('Mean absolute error of decision tree',MAE_DT)\n",
        "print('Mean square  error of decision tree',MSE_DT)\n",
        "print('root Mean square error of decision tree',RMSE_DT)\n",
        "print('r2 score of decision tree',r2_DT)\n",
        "print('adjusted r2 of decision tree',Adj_r2_DT)"
      ],
      "metadata": {
        "execution": {
          "iopub.status.busy": "2023-01-16T01:31:07.284264Z",
          "iopub.execute_input": "2023-01-16T01:31:07.284678Z",
          "iopub.status.idle": "2023-01-16T01:31:07.293412Z",
          "shell.execute_reply.started": "2023-01-16T01:31:07.284647Z",
          "shell.execute_reply": "2023-01-16T01:31:07.292175Z"
        },
        "trusted": true,
        "id": "CUraosYGj3VV",
        "colab": {
          "base_uri": "https://localhost:8080/"
        },
        "outputId": "3182df92-6aa1-4c93-e3ab-7aec2e7982bd"
      },
      "execution_count": 58,
      "outputs": [
        {
          "output_type": "stream",
          "name": "stdout",
          "text": [
            "Mean absolute error of decision tree 0.3060630930525928\n",
            "Mean square  error of decision tree 0.44243269607788005\n",
            "root Mean square error of decision tree 0.6651561441329998\n",
            "r2 score of decision tree 0.5500693725025148\n",
            "adjusted r2 of decision tree 0.5500217708703208\n"
          ]
        }
      ]
    }
  ]
}